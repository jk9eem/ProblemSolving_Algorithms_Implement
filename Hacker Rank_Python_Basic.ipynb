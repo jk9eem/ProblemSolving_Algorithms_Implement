{
  "cells": [
    {
      "cell_type": "markdown",
      "metadata": {
        "id": "view-in-github",
        "colab_type": "text"
      },
      "source": [
        "<a href=\"https://colab.research.google.com/github/jk9eem/ProblemSolving_Algorithms_Implement/blob/main/Hacker%20Rank_Python_Basic.ipynb\" target=\"_parent\"><img src=\"https://colab.research.google.com/assets/colab-badge.svg\" alt=\"Open In Colab\"/></a>"
      ]
    },
    {
      "cell_type": "markdown",
      "source": [
        "6.Write a function"
      ],
      "metadata": {
        "id": "ga20z16YO__U"
      }
    },
    {
      "cell_type": "code",
      "source": [
        "def is_leap(year):\n",
        "    leap = False\n",
        "    \n",
        "    # Write your logic here\n",
        "    if year%400 == 0:\n",
        "        return True\n",
        "    if year%100 == 0:\n",
        "        return leap\n",
        "    if year%4 == 0:\n",
        "        return True\n",
        "    \n",
        "    return leap"
      ],
      "metadata": {
        "id": "jK5JfPxGPAYq"
      },
      "execution_count": null,
      "outputs": []
    }
  ],
  "metadata": {
    "colab": {
      "collapsed_sections": [],
      "name": "Welcome To Colaboratory",
      "toc_visible": true,
      "provenance": [],
      "include_colab_link": true
    },
    "kernelspec": {
      "display_name": "Python 3",
      "name": "python3"
    }
  },
  "nbformat": 4,
  "nbformat_minor": 0
}