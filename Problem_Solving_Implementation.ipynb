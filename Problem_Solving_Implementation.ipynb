{
  "nbformat": 4,
  "nbformat_minor": 0,
  "metadata": {
    "colab": {
      "name": "Problem Solving-Implementation.ipynb",
      "provenance": [],
      "include_colab_link": true
    },
    "kernelspec": {
      "name": "python3",
      "display_name": "Python 3"
    },
    "language_info": {
      "name": "python"
    }
  },
  "cells": [
    {
      "cell_type": "markdown",
      "metadata": {
        "id": "view-in-github",
        "colab_type": "text"
      },
      "source": [
        "<a href=\"https://colab.research.google.com/github/jk9eem/ProblemSolving_Implement/blob/main/Problem_Solving_Implementation.ipynb\" target=\"_parent\"><img src=\"https://colab.research.google.com/assets/colab-badge.svg\" alt=\"Open In Colab\"/></a>"
      ]
    },
    {
      "cell_type": "markdown",
      "source": [
        "19. Migratory Birds"
      ],
      "metadata": {
        "id": "nvHdrh37l1Dh"
      }
    },
    {
      "cell_type": "code",
      "execution_count": null,
      "metadata": {
        "id": "A-BD3ujrLZaI"
      },
      "outputs": [],
      "source": [
        "def migratoryBirds(arr):\n",
        "    # Write your code here\n",
        "    # count=0\n",
        "    # cnt=[]\n",
        "    # for i in range(len(arr)):\n",
        "    #     if i == arr[i]:\n",
        "    #         cnt[i]+=1\n",
        "    # maxNum=max(cnt)\n",
        "    # print(maxNum)\n",
        "                     #Initialize the list to count. \n",
        "    m # It's guaranteed that each type is less than len(arr)\n",
        "    for i in range(len(arr)):\n",
        "        l[arr[i]]+=1 # If arr[1] is 4, increase value at l[4]\n",
        "    \n",
        "    return l.index(max(l)) # return the max number of index of l"
      ]
    },
    {
      "cell_type": "markdown",
      "source": [
        "20. Day of the Programmer"
      ],
      "metadata": {
        "id": "uugfpK9KlqtH"
      }
    },
    {
      "cell_type": "code",
      "source": [
        "def dayOfProgrammer(year):\n",
        "    # Write your code here\n",
        "    # if year>1918:\n",
        "    #     if year%400==0 and year%4==0 and year%100!=0:\n",
        "    #         mm=256//29\n",
        "    #         dd=256%29\n",
        "    # else:\n",
        "    #     mm=256//28\n",
        "    #     dd=256%28\n",
        "    \n",
        "    # strMM=str(mm)\n",
        "    # strDD=str(dd)\n",
        "    # strYear=str(year)\n",
        "    # print(strMM+\".\"+strDD+\".\"+strYear)\n",
        "    \n",
        "    if year == 1918: # specific year, 1918\n",
        "        return \"26.09.1918\"\n",
        "    # elif (year<=1917 and year%4==0) or (year>1918 and (year%400==0 or (year%4==0 and year%100!=100))):\n",
        "    elif ((year <= 1917) & (year%4 == 0)) or ((year > 1918) & (year%400 == 0 or ((year%4 == 0) & (year%100 != 0)))):\n",
        "        return \"12.09.%s\" %year # leap year for before 1917 and after 1918\n",
        "    else:\n",
        "        return \"13.09.%s\" %year\n",
        "    \n",
        "    # this problem's problem was hard to understand the problem.\n",
        "    # still not figured out yet"
      ],
      "metadata": {
        "id": "12ewJC71lj-W"
      },
      "execution_count": null,
      "outputs": []
    },
    {
      "cell_type": "markdown",
      "source": [
        "21. Bill Division(Bon Appetit)"
      ],
      "metadata": {
        "id": "KfAuGF19Nxit"
      }
    },
    {
      "cell_type": "code",
      "source": [
        "def bonAppetit(bill, k, b):\n",
        "    # Write your code here\n",
        "    actual=(sum(bill)-bill[k])//2\n",
        "    if (b-actual)==0:\n",
        "        print(\"Bon Appetit\")\n",
        "    else:\n",
        "        print(b-actual)"
      ],
      "metadata": {
        "id": "STca-elqNw-v"
      },
      "execution_count": null,
      "outputs": []
    },
    {
      "cell_type": "markdown",
      "source": [
        "22. Sales by Match(Sock Merchant)"
      ],
      "metadata": {
        "id": "d1zPxiGffCua"
      }
    },
    {
      "cell_type": "code",
      "source": [
        "def sockMerchant(n, ar):\n",
        "    # Write your code here\n",
        "    # pairs=[0]*n\n",
        "    # for i in range(n):\n",
        "    #     pairs[ar[i]]+=1\n",
        "    \n",
        "    count=0 # to count number of pairs\n",
        "    d = {} # create dictionary to count number of socks for each color\n",
        "    \n",
        "    for i in ar:          # if i is already existed in the dict,\n",
        "        d[i] = d.get(i,0)+1 # it'll return of value, if it's not, return 0\n",
        "    \n",
        "    for i in d.keys():   # total number of socks for the particular color.\n",
        "        count += d[i]//2 # And //2 for counting pair. If a single color, it'll return 0. So, that's ok\n",
        "        \n",
        "    return count"
      ],
      "metadata": {
        "id": "-dZqtHumfFDk"
      },
      "execution_count": null,
      "outputs": []
    },
    {
      "cell_type": "markdown",
      "source": [
        "23. Drawing Book "
      ],
      "metadata": {
        "id": "xIkSyiX2BkDk"
      }
    },
    {
      "cell_type": "code",
      "source": [
        "def pageCount(n, p):\n",
        "    # Write your code here\n",
        "    # print(min(p//2, p//2-n//2))\n",
        "    \n",
        "    # count the flipping page number from the front and back, then find the minimum number\n",
        "    # counting from the front\n",
        "    front = p//2 # If count the target page from the front, just divide by 2 out of the page\n",
        "    # ---------------------------------------\n",
        "    #back = (n-p)//2 # It's the same approach. Get rid of the part from the front to the page, \n",
        "                    # then divide by 2 to count. But when page number is even, it should be treated diff\n",
        "    # counting from the back\n",
        "    if n%2==1:          # even number of length of the book to count from the back\n",
        "        back = (n-p)//2 # ex) from pg6 to pg2. It needs to flip 2 pages. (6-2)//2 = 2\n",
        "    else:               \n",
        "        back = (n-p+1)//2 # odd number of length of the book to count from the back\n",
        "                          # ex) from pg7 to pg2. It also needs to flip 2 pages. (7-2+1)//2 = 2\n",
        "                          # It's like making this condition as even number of page\n",
        "    return min(front,back)"
      ],
      "metadata": {
        "id": "s4bejkgdBkYg"
      },
      "execution_count": null,
      "outputs": []
    },
    {
      "cell_type": "markdown",
      "source": [
        "24. Counting Valleys"
      ],
      "metadata": {
        "id": "zcokLIiCoRkr"
      }
    },
    {
      "cell_type": "code",
      "source": [
        "def countingValleys(steps, path):\n",
        "    # Write your code here\n",
        "    valleys = 0\n",
        "    levels = 0\n",
        "    for i in path:\n",
        "        if i=='U':\n",
        "            levels+=1\n",
        "        if i=='D':\n",
        "            levels-=1\n",
        "        if levels==0 and i=='U':\n",
        "            valleys+=1\n",
        "    return valleys\n",
        "    \n",
        "    # key point is U and D makes mountain and D and U makes valley.\n",
        "    # So, when the sea level is 0 with U, it's valley\n",
        "    # mine is correct but lets look at the Youtube solution with using dict\n",
        "    # valleys = levels = 0\n",
        "    # d = {'U':1, 'D':-1} # set up the dict. U is 1 and D is -1\n",
        "    # for i in steps:    # Calculate(adding) each elements and save value into levels\n",
        "    #     levels += d[i] # ex) UDDDUDUU = 1+(-1)+(-1)+(-1)+1+(-1)+1+1\n",
        "    #     if levels==0 and i=='U': # When sea level is 0 with 'U', it's a valley\n",
        "    #         valleys+=1\n",
        "    # return valleys"
      ],
      "metadata": {
        "id": "vFZtNn0DoR_P"
      },
      "execution_count": null,
      "outputs": []
    },
    {
      "cell_type": "markdown",
      "source": [
        "25. Electronics Shop"
      ],
      "metadata": {
        "id": "wadPhxRPBvVg"
      }
    },
    {
      "cell_type": "code",
      "source": [
        "def getMoneySpent(keyboards, drives, b):\n",
        "    #\n",
        "    # Write your code here.\n",
        "    # l = []\n",
        "    # for i in keyboards:\n",
        "    #     for j in drives:\n",
        "    #         # l = i+j #this is wrong I should use append if it works\n",
        "    #         if i+j<=b:\n",
        "    #             l.append(i+j)\n",
        "            \n",
        "    # if max(l)>b:\n",
        "    #     return -1\n",
        "    # else:\n",
        "    #     return max(l)\n",
        "    # What I've tried is save summed value to arr l, then find the max value. But it didn't work.\n",
        "    \n",
        "    maxAmount = -1 # basic setup for returning -1, especially for each arr has a single element\n",
        "                   # and the total amount is bigger than budget, b.\n",
        "                   # ex) budget=5, keyboards=4, drives=5. So, Total=9. It's bigger than budget\n",
        "    for i in keyboards:\n",
        "        for j in drives:\n",
        "            if i+j<=b:\n",
        "                maxAmount=max(maxAmount, i+j)\n",
        "    return maxAmount\n",
        "    \n",
        "    # somebody's answer is interesting - one line pythonic code\n",
        "    # return max([sum([x,y]) for x in keyboards for y in drives if sum([x,y]) <= b]+[-1])"
      ],
      "metadata": {
        "id": "MZHXTOQEBvb7"
      },
      "execution_count": null,
      "outputs": []
    },
    {
      "cell_type": "markdown",
      "source": [
        "26. Cats and a Mouse"
      ],
      "metadata": {
        "id": "6geKAHwp__1V"
      }
    },
    {
      "cell_type": "code",
      "source": [
        "def catAndMouse(x, y, z):\n",
        "    #Write the code here\n",
        "    catA=abs(x-z)\n",
        "    catB=abs(y-z)\n",
        "    if catA==catB:\n",
        "        return \"Mouse C\"\n",
        "    elif catA<catB:\n",
        "        return \"Cat A\"\n",
        "    else:\n",
        "        return \"Cat B\""
      ],
      "metadata": {
        "id": "sQ8QYShr__-H"
      },
      "execution_count": null,
      "outputs": []
    },
    {
      "cell_type": "markdown",
      "source": [
        "27. Forming a Magic Square"
      ],
      "metadata": {
        "id": "O4mmaKjPhWu2"
      }
    },
    {
      "cell_type": "code",
      "source": [
        "def formingMagicSquare(s):\n",
        "    # Write your code here\n",
        "    # I have no idea at all\n",
        "    \n",
        "    # There are magic square numbers on the internet\n",
        "    # magic = [[8, 1, 6, 3, 5, 7, 4, 9, 2], [6, 1, 8, 7, 5, 3, 2, 9, 4], [4, 3, 8, 9, 5, 1, 2, 7, 6], \n",
        "    # [2, 7, 6, 9, 5, 1, 4, 3, 8],  [2, 9, 4, 7, 5, 3, 6, 1, 8], [4, 9, 2, 3, 5, 7, 8, 1, 6], \n",
        "    # [6, 7, 2, 1, 5, 9, 8, 3, 4], [8, 3, 4, 1, 5, 9, 6, 7, 2]]\n",
        "    \n",
        "    s = sum(s,[]) # convert 2d to 1d. Sum of matrix s to single\n",
        "    \n",
        "    # Then we need to convert out matrix to magic matrix\n",
        "    # We can use seperate program to find the magic square matrix or use the existing 3x3 magic matrix\n",
        "    magic = [[8, 1, 6, 3, 5, 7, 4, 9, 2], [6, 1, 8, 7, 5, 3, 2, 9, 4], [4, 3, 8, 9, 5, 1, 2, 7, 6], [2, 7, 6, 9, 5, 1, 4, 3, 8],  [2, 9, 4, 7, 5, 3, 6, 1, 8], [4, 9, 2, 3, 5, 7, 8, 1, 6], [6, 7, 2, 1, 5, 9, 8, 3, 4], [8, 3, 4, 1, 5, 9, 6, 7, 2]]\n",
        "    \n",
        "    minCost = sys.maxsize # sys.maxsize is to find the maximum value of int. For initial purpose only\n",
        "    \n",
        "    for mag in magic:\n",
        "        diff = 0\n",
        "        for i,j in zip(s,mag): # zip() allows to link/connect from two diff arrays(same len)\n",
        "                               # with taking iterable object(s) and returns it/them\n",
        "            diff+=abs(i-j) # add the difference between magic number and the original matrix\n",
        "        minCost = min(minCost, diff) # save the minimum value\n",
        "    \n",
        "    return minCost"
      ],
      "metadata": {
        "id": "8g8GEiVLhW1T"
      },
      "execution_count": null,
      "outputs": []
    },
    {
      "cell_type": "markdown",
      "source": [
        "28. Picking Numbers"
      ],
      "metadata": {
        "id": "1qxpVznb7C1o"
      }
    },
    {
      "cell_type": "code",
      "source": [
        "from collections import Counter\n",
        "def pickingNumbers(a):\n",
        "    # Write your code here\n",
        "    # count=0\n",
        "    # for i in range(len(a)-1):\n",
        "    #     if abs(a[i]-a[i+1])==0 or abs(a[i]-a[i+1])==1:\n",
        "    #         count+=1\n",
        "    # return count+1\n",
        "                     # Counter() is for counting the elements in the array\n",
        "    arr = Counter(a) # Create dict from list of integers\n",
        "    maxNum = 0 # Initialize maximum number\n",
        "    \n",
        "    for i in range(100): # constraints:0<a[i]<100 (1 to 99)\n",
        "        maxNum = max(maxNum, arr[i]+arr[i+1]) # find the maximum number\n",
        "    return maxNum"
      ],
      "metadata": {
        "id": "ZQ4vT9dA7C_g"
      },
      "execution_count": null,
      "outputs": []
    },
    {
      "cell_type": "markdown",
      "source": [
        "29. Climbing the Leaderboard (Medium)"
      ],
      "metadata": {
        "id": "VtLX1FrXhFF0"
      }
    },
    {
      "cell_type": "code",
      "source": [
        "def climbingLeaderboard(ranked, player):\n",
        "    # Write your code here\n",
        "    # l = ranked + player\n",
        "    # l.sort()\n",
        "    # l.reverse()\n",
        "    # curr=0\n",
        "    # for i in range(len(l)):\n",
        "    #     if l[i]>l[i+1]:\n",
        "    #         curr+=1\n",
        "    #         print(curr)\n",
        "    #     else:\n",
        "    #         print(curr)\n",
        "    \n",
        "    # Wrong interpretation. and the approach was different.\n",
        "    # My approach: combine the array then sort it. Didn't know about how to deal with duplicated rank\n",
        "    # Youtube approach: use set() to delete the duplicated rank. With using result array to save\n",
        "                      # the sorted rank\n",
        "    ranked = list(set(ranked))\n",
        "    ranked.sort()\n",
        "    n = len(ranked)\n",
        "    i=0\n",
        "    result=[]\n",
        "    \n",
        "    for playerRanked in player:\n",
        "        while i<n and ranked[i]<=playerRanked:\n",
        "            i+=1\n",
        "        # ranked [80,90,100]\n",
        "        # player 90\n",
        "        result.append(n-i+1)\n",
        "    return result"
      ],
      "metadata": {
        "id": "RAeYpQcZhFO8"
      },
      "execution_count": null,
      "outputs": []
    },
    {
      "cell_type": "markdown",
      "source": [
        "30. The Hurdle Race"
      ],
      "metadata": {
        "id": "fFVesEdmeUJM"
      }
    },
    {
      "cell_type": "code",
      "source": [
        "def hurdleRace(k, height):\n",
        "    # Write your code here\n",
        "    maxHeight=max(height)\n",
        "    \n",
        "    if k>=maxHeight:\n",
        "        return 0\n",
        "    else:\n",
        "        return maxHeight-k\n",
        "    \n",
        "    # Youtube. This looks better and has better efficiency\n",
        "    # maxHeight=max(height)\n",
        "    # return max(maxHeight-k, 0) # It works becuase it'll return 0 when maxHeigh-k is equal to 0. If k > maxHeight, maxHeight is less than 0 (neg num).\n",
        "                                 # Then it still returns 0 which legit for this statement."
      ],
      "metadata": {
        "id": "YMWaU71beURX"
      },
      "execution_count": null,
      "outputs": []
    },
    {
      "cell_type": "markdown",
      "source": [
        "31. Designer PDF Viewer"
      ],
      "metadata": {
        "id": "IfIhYbjw8TjO"
      }
    },
    {
      "cell_type": "code",
      "source": [
        "def designerPdfViewer(h, word):\n",
        "    # Write your code here\n",
        "    # alphabet = string.ascii_lowercase\n",
        "    \n",
        "    height=0\n",
        "    \n",
        "    for letter in word:        # ord() returns ASCII CODE value of letter\n",
        "        height = max(height, h[ord(letter) - ord('a')]) # ord('a')=67.\n",
        "        # ord('a')=67. If the letter is different than 'a', ord(letter) - ord('a') will return\n",
        "        # the difference which will give the location of h[].\n",
        "    return height*len(word)"
      ],
      "metadata": {
        "id": "fc02Zzmi8TrW"
      },
      "execution_count": null,
      "outputs": []
    },
    {
      "cell_type": "markdown",
      "source": [
        "32. Utopian Tree"
      ],
      "metadata": {
        "id": "YlKrQ2o6x1ux"
      }
    },
    {
      "cell_type": "code",
      "source": [
        "def utopianTree(n):\n",
        "    # Write your code here\n",
        "    s = 0\n",
        "    for i in range(n+1): # until n+1 because it starts from 0 period.\n",
        "        if i%2 == 0: # in the even period, its height increases by 1\n",
        "            s+=1\n",
        "        else:        # in the odd period, its height increases double\n",
        "            s*=2\n",
        "    return s"
      ],
      "metadata": {
        "id": "Ms74zhiYx12K"
      },
      "execution_count": null,
      "outputs": []
    },
    {
      "cell_type": "markdown",
      "source": [
        "33. Angry Professor"
      ],
      "metadata": {
        "id": "AMqHHYjC2N0F"
      }
    },
    {
      "cell_type": "code",
      "source": [
        "def angryProfessor(k, a):\n",
        "    # Write your code here\n",
        "    count = 0\n",
        "    for i in a:\n",
        "        if i<=0:\n",
        "            count+=1\n",
        "    if count>=k:    # I thought when more students arrived on time then threshold, return YES\n",
        "        return 'NO' # But it returns NO because the class will not canceled. \n",
        "    else:           # It asks determine if the class is cancelled.\n",
        "        return 'YES' # vise versa"
      ],
      "metadata": {
        "id": "8JuW-pcf2ODl"
      },
      "execution_count": null,
      "outputs": []
    },
    {
      "cell_type": "markdown",
      "source": [
        "34. Beautiful Days at the Movies"
      ],
      "metadata": {
        "id": "NBChrO3ZykuB"
      }
    },
    {
      "cell_type": "code",
      "source": [
        "def beautifulDays(i, j, k):\n",
        "    # Write your code here\n",
        "    # This code will print original num, reversed num (found on google)\n",
        "    # for i in range(20,24):\n",
        "    #     print(i,int(str(i)[::-1]))\n",
        "    \n",
        "    count = 0\n",
        "    for itr in range(i,j+1): # because the days include j so looping until j+1\n",
        "        r = int(str(itr)[::-1]) # explanations above\n",
        "        if abs(itr-r)%k == 0: # following explanation in the description\n",
        "            count += 1\n",
        "    return count"
      ],
      "metadata": {
        "id": "vX3DvV9zyk4O"
      },
      "execution_count": null,
      "outputs": []
    },
    {
      "cell_type": "markdown",
      "source": [
        "35. Viral Advertising"
      ],
      "metadata": {
        "id": "Q1oyZSwKLpzb"
      }
    },
    {
      "cell_type": "code",
      "source": [
        "def viralAdvertising(n):\n",
        "    # Write your code here\n",
        "    total = 0\n",
        "    shared = 5\n",
        "    liked = 0\n",
        "    for i in range(n):\n",
        "        liked = shared//2\n",
        "        shared = liked*3\n",
        "        total += liked\n",
        "    return total\n",
        "    # My code returned the correct value but it didn't return correct shared values\n",
        "    # 6 2 2\n",
        "    # 9 3 5\n",
        "    # 12 4 9\n",
        "    # 18 6 15\n",
        "    # 27 9 24\n",
        "    \n",
        "    # Youtube\n",
        "    # total = 0\n",
        "    # shared = 5\n",
        "    \n",
        "    # for i in range(n):\n",
        "    #     like = shared//2\n",
        "    #     total += like\n",
        "    #     shared = like*3\n",
        "    # return total\n",
        "    # 6 2 2\n",
        "    # 9 3 5\n",
        "    # 12 4 9\n",
        "    # 18 6 15\n",
        "    # 27 9 24"
      ],
      "metadata": {
        "id": "LKCLh9S0Lp8M"
      },
      "execution_count": null,
      "outputs": []
    },
    {
      "cell_type": "markdown",
      "source": [
        "36. Save the Prisoner!"
      ],
      "metadata": {
        "id": "Ov6bNuqkSpZ-"
      }
    },
    {
      "cell_type": "code",
      "source": [
        "def saveThePrisoner(n, m, s):\n",
        "    # Write your code here\n",
        "    # l = []\n",
        "    # for i in range(m):\n",
        "    #     for j in range(1,n+1):\n",
        "    #         # I don't know how to iterate again from 1\n",
        "                        \n",
        "    res = s+m-1 # It gives the total iteration number. As long as it starts with starting number, it has to subtract 1. The second case ex) n=3,m=7,s=3. 3+7-1=9\n",
        "    res %= n # to get the number in range. ex) 9%3=0\n",
        "    if res == 0:\n",
        "        return n # because it will return to the starting point\n",
        "    else:\n",
        "        return res # the difference from the starting point\n",
        "\n",
        "    # The point of this problem is how to utilize %, an arithmatic operator and understand of its usage.\n",
        "    # Iterating concept is not only using for loop but using %\n",
        "    # There are already similar problems before"
      ],
      "metadata": {
        "id": "YSJAtucISpin"
      },
      "execution_count": null,
      "outputs": []
    },
    {
      "cell_type": "markdown",
      "source": [
        "37. Circular Array Rotation"
      ],
      "metadata": {
        "id": "uch-06AuxOH-"
      }
    },
    {
      "cell_type": "code",
      "source": [
        "def circularArrayRotation(a, k, queries):\n",
        "    # Write your code here\n",
        "    # My logic is a[i]-k is equal to the index of queries\n",
        "    # ex) a[0]=3. k=2. 3-2=1 which is the index of queries\n",
        "    # for i in range(a):\n",
        "    #     queries=a[a[i]-k]\n",
        "    # for i in queries:\n",
        "    #     print(i)\n",
        "    # It returns runtime error. \n",
        "\n",
        "    result = []\n",
        "    # The difference between 'Save The Prisoner' is the result is the input array itself after rotation\n",
        "    # Then all it needs is '%n'\n",
        "    k = k%n # n is length of array, defined in the main method\n",
        "            # THIS IS AN IMPORTANT FORMULA! When the rotation of array 'k' times is required, utilize this. This formula will help to solve many other problems!!!\n",
        "    for q in queries:\n",
        "        result.append(a[(n-k+q)%n]) # It needs to find the starting index first at a[()]. The logic is above, n-k. For that, a[(n-k)]. ex) a[0]=3,n=3,k=2. a[(3-2)]\n",
        "                                    # It's still a[1]. It is supposed to be a[2] because after rotation, a=[4,5,3]\n",
        "                                    # Then, return the queries index. For that, just add q, a[(n-k+q)]. ex) a[(3-2+1)]\n",
        "                                    # Finally, it has to take '%n' becuase if it exceed the range, it'll throw the error. In order to keep it in the range, it need to take '%n'\n",
        "    return result"
      ],
      "metadata": {
        "id": "tSZVjmX-dswr"
      },
      "execution_count": null,
      "outputs": []
    },
    {
      "cell_type": "markdown",
      "source": [
        "38. Sequence Equation"
      ],
      "metadata": {
        "id": "tMhSx23Gc3Q_"
      }
    },
    {
      "cell_type": "code",
      "source": [
        "def permutationEquation(p):\n",
        "    # Write your code here\n",
        "    # l =[]\n",
        "    # for i in p:\n",
        "    #     for j in range(1,n+1):\n",
        "    #         if i==j:\n",
        "    #             l[j]=i\n",
        "    #             print(l[j])\n",
        "    \n",
        "    result = []\n",
        "    n = len(p)\n",
        "    \n",
        "    for i in range(1, n+1): # Range from 1 to n+1 because we're going to use index(). index() uses different way than how we count in array.\n",
        "                            # In array, '0~n'. With index(), 1~n+1. ex) p[0] = index(1). If p[2,3,1], index(0) is out of range. index(1) returns 2\n",
        "        result.append(p.index(p.index(i) + 1) + 1) # Calculate from the most inside index(). p.index(1) = 2. Then +1 is 3.\n",
        "                                                   # It is now p.index(3)+1. p.index(3) = 1. Then +1 is 2.\n",
        "                                                   # This line of code is like copying the formula in the explanation of the problem.\n",
        "                                                   # Finally, add the result into the result[]\n",
        "    return result"
      ],
      "metadata": {
        "id": "8XIrSvkWc3dX"
      },
      "execution_count": null,
      "outputs": []
    },
    {
      "cell_type": "markdown",
      "source": [
        "39. Jumping on the Clouds: Revisited"
      ],
      "metadata": {
        "id": "8pqjqC7CIkGT"
      }
    },
    {
      "cell_type": "code",
      "source": [
        "def jumpingOnClouds(c, k):\n",
        "    \n",
        "    # e=100\n",
        "    # for i in range(len(c)):\n",
        "    #     if c[(i+k)%n]==1:\n",
        "    #         e-=2\n",
        "    #     elif c[(i+k)%n]==0:\n",
        "    #         e-=1\n",
        "    #     elif c[(i+k)%n]==c[0]:\n",
        "    #         e-=1\n",
        "    #         return e\n",
        "        \n",
        "    e = 100\n",
        "    i = 0\n",
        "    \n",
        "    while True: # In order to make an infinite loop\n",
        "        e = e-1-2*c[i] # 'e-1' represent the cost of jump. \n",
        "            # Another condition '-2*c[i]' when c[i]=1. Then the cost of jump is additional charge of -2'\n",
        "            # If c[i]=0, then there is no additional charge because -2*0=0.\n",
        "        \n",
        "        i = (i+k)%n # This makes the loop circular\n",
        "        \n",
        "        if i==0: # 0 is a starting index. Checking the loop exit condition.\n",
        "            break # Break the loop and exit.\n",
        "    return e"
      ],
      "metadata": {
        "id": "n7plo0LkIkO5"
      },
      "execution_count": null,
      "outputs": []
    },
    {
      "cell_type": "markdown",
      "source": [
        "40. Find Digits"
      ],
      "metadata": {
        "id": "Gnl_CxeUKqb5"
      }
    },
    {
      "cell_type": "code",
      "source": [
        "def findDigits(n):\n",
        "    # Write your code here\n",
        "    count = 0\n",
        "    strN = str(n)\n",
        "    for i in range(len(strN)):\n",
        "        if int(strN[i])!=0 and n%int(strN[i])==0: # I forgot to add condition when digit is 0.\n",
        "            count+=1\n",
        "    return count\n",
        "\n",
        "    # Youtube solution\n",
        "    count = 0\n",
        "    for i in str(n): # Instead of converting int to str for getting the range of integer,\n",
        "                     # just iterate in str(n). It works the same and much intuitive.\n",
        "        if int(i)!=0 and n%int(i)==0: # Now i is string type. So, convert to int to calculate.\n",
        "            count+=1\n",
        "    return count\n"
      ],
      "metadata": {
        "id": "sfoI4UxlKqmk"
      },
      "execution_count": null,
      "outputs": []
    },
    {
      "cell_type": "markdown",
      "source": [
        "41. Extra Long Factorials"
      ],
      "metadata": {
        "id": "jY7brcx3Lm8u"
      }
    },
    {
      "cell_type": "code",
      "source": [
        "def extraLongFactorials(n):\n",
        "    # Write your code here\n",
        "    # if n==1:\n",
        "    #     return n\n",
        "    # return extraLongFactorials(n-1)*n\n",
        "\n",
        "    # My code works, but it the problem requires to print. So it's beneficial to use for loop\n",
        "    # It looks hard but it is not with using for loop. And actually using for loop is better efficiency\n",
        "    fact = 1 # Starting point\n",
        "    for i in range(1,n+1): \n",
        "        fact = fact*i # As the definition of factorial is.\n",
        "    print(fact)"
      ],
      "metadata": {
        "id": "qp4dF81qLnFV"
      },
      "execution_count": null,
      "outputs": []
    },
    {
      "cell_type": "markdown",
      "source": [
        "42. Append and Delete"
      ],
      "metadata": {
        "id": "5Sne85nghF2C"
      }
    },
    {
      "cell_type": "code",
      "source": [
        "def appendAndDelete(s, t, k):\n",
        "    # Write your code here\n",
        "    # count = 0\n",
        "    # for i in s:\n",
        "    #     for j in t:\n",
        "    \n",
        "    # Forgot to use zip(). Again, zip() allows to link/connect from two diff arrays(same len)\n",
        "    count = 0\n",
        "    for i,j in zip(s,t):\n",
        "        if i == j:\n",
        "            count+=1\n",
        "        else:\n",
        "            break\n",
        "    # Here is my misinterpretation. I thought I have to make complete string for s, but it was not.\n",
        "    # Just need to calculate how many steps to convert s to t in k times.\n",
        "    # So, I don't have to worry about append or pop operations for the array to complete matching strings\n",
        "    # Just count numbers in k times. Then return Yes or No.\n",
        "    totalLen = len(s) + len(t)\n",
        "    \n",
        "    # Case1\n",
        "    #totalLen <= 2*count + k # Possible to convert strings in k times\n",
        "                            # 2*count is the matching strings for both array, and k is number of operations to perform\n",
        "    \n",
        "    # Case2: perform exactly k times operations\n",
        "    #totalLen%2 == k%2  # In order to check exact k operations, it should be all even\n",
        "    \n",
        "    # Case3: failed to convert case\n",
        "    #totalLen < k\n",
        "    \n",
        "    # So, condition should be case1 and case2 or case3\n",
        "    if totalLen <= 2*count+k and totalLen%2 == k%2 or totalLen < k:\n",
        "        return 'Yes'\n",
        "    else:\n",
        "        return 'No'"
      ],
      "metadata": {
        "id": "bAh4lQ9mhF-p"
      },
      "execution_count": null,
      "outputs": []
    },
    {
      "cell_type": "markdown",
      "source": [
        "43. Sherlock and Squares"
      ],
      "metadata": {
        "id": "K93qt996qXMi"
      }
    },
    {
      "cell_type": "code",
      "source": [
        "from math import *\n",
        "def squares(a, b):\n",
        "    # Write your code here\n",
        "    # count = 0\n",
        "    # for i in range(a,b+1):\n",
        "    #     sqrtInt = int(math.sqrt(i))\n",
        "    #     if sqrtInt%1 == 0 and a<=sqrtInt<=b:\n",
        "    #         count+=1\n",
        "    # return count\n",
        "\n",
        "    return floor(sqrt(b)) - ceil(sqrt(a)) + 1\n",
        "    # The floor() will take the input and remove values after the decimal point. ex) 5.9 -> 5\n",
        "    # The ceil() will take the input and round up to the next integer value. ex) 5.1 -> 6\n",
        "    \n",
        "    # If you take square root of the perfect squares, you will get normal natural numbers \n",
        "    # like this 1,2,3,4,5 and so on. Then take a difference, you will get the number of perfect squares\n",
        "    # in the range. I just reduced the range by taking square root, you can also solve the problem \n",
        "    # by finding whether the number is perfect square or not, but it will take some time.\n",
        "    \n",
        "    # why do you have taken +1 (after floor-ceil)?\n",
        "    # To get the inclusive range of one part, If you didn't add one, \n",
        "    # it will miss one element in the range."
      ],
      "metadata": {
        "id": "oAVpG6pWqXUi"
      },
      "execution_count": null,
      "outputs": []
    },
    {
      "cell_type": "markdown",
      "source": [
        "44. Library Fine"
      ],
      "metadata": {
        "id": "TE_t6DTH5xlu"
      }
    },
    {
      "cell_type": "code",
      "source": [
        "def libraryFine(d1, m1, y1, d2, m2, y2):\n",
        "    # Write your code here\n",
        "    total = 0\n",
        "    \n",
        "    # First condition (4th condition of the question)\n",
        "    if y1 > y2:\n",
        "        total += 10000 # If the return year is greater than the expected year, add 10000\n",
        "    # Second condition (3rd condition in the question)\n",
        "    elif y1 == y2 and m1 > m2: \n",
        "        total += 500 * (m1 - m2) # (m1 - m2) -> the difference in month\n",
        "    # Third condition (2nd condition in the question)\n",
        "    elif y1 == y2 and m1 == m2 and d1 > d2: # Only difference is the day\n",
        "        total += 15 * (d1 - d2) # (d1 - d2) -> the difference in dat\n",
        "    # No need for else  because the total is obviously 0 if all the conditions are not satisfied\n",
        "    return total"
      ],
      "metadata": {
        "id": "4_ToTVJi5xuf"
      },
      "execution_count": null,
      "outputs": []
    },
    {
      "cell_type": "markdown",
      "source": [
        "45. Cut the sticks"
      ],
      "metadata": {
        "id": "rPDyojtEmHW-"
      }
    },
    {
      "cell_type": "code",
      "source": [
        "from collections import Counter # Youtube solution imported\n",
        "def cutTheSticks(arr):\n",
        "    # Write your code here\n",
        "    # for i in arr:\n",
        "    #     sticks = len(arr)\n",
        "    #     shortest = min(arr)\n",
        "    #     if sticks > 0:\n",
        "    #         return sticks\n",
        "    #     elif i>shortest:\n",
        "    #         i-shortest\n",
        "    #     elif i==shortest:\n",
        "    #         arr.pop(i)\n",
        "    \n",
        "    result = []\n",
        "    n = len(arr)\n",
        "    s = Counter(arr)# Making hashmap of the array. This will return a dict\n",
        "                    # Why use dict? Each key value will be unique. We can have number of counts as value\n",
        "                    # So, the Counter in this problem will create a dictionary with key as stick and value as count of that particular stick\n",
        "    \n",
        "    for i in sorted(s.keys()): # From the dict, we get only key values. And we sort key values.\n",
        "                               # Why sort key values? Because for each iteration, we need to pick the \n",
        "                               # shortest value. \n",
        "        result.append(n) # Why we add the result in the first step? The problem requires to print the \n",
        "                         # number of sticks that are left before each iteration\n",
        "        n -= s[i] # 'i' will be the shortest stick(s), so discard it/them. After discard,\n",
        "                  # we'll get the remaining stick(s) from n\n",
        "    return result"
      ],
      "metadata": {
        "id": "GwFyTHSYmHfI"
      },
      "execution_count": null,
      "outputs": []
    },
    {
      "cell_type": "markdown",
      "source": [
        "46. Non-Divisible Subset"
      ],
      "metadata": {
        "id": "QxMAzeMik8Is"
      }
    },
    {
      "cell_type": "code",
      "source": [
        "def nonDivisibleSubset(k, s):\n",
        "    # Write your code here\n",
        "    \n",
        "    # Youtube solution\n",
        "    remainder = [0]*k # initialize array with [0], length of k. If k=5, remainder = [0,0,0,0,0]\n",
        "    for i in s:\n",
        "        remainder[i % k] +=1  # For each integer, it'll take the remainder as an index. ex) i=10,k=4, 10%4=2. remainder[2]+=1\n",
        "                              # For each remainder index, we'll have number of integer count of the particular reminader.\n",
        "        \n",
        "    maxNum = 0\n",
        "    maxNum += min(remainder[0], 1) # If we add more than 1 element from the reminader[0], it'll be divisable by k. \n",
        "                                   # We'll add only one number if remainder[0] have some elements. If remainder[0] has no element, nothing will be added to maxNum because of the min operation.\n",
        "                                   # If there are more than one element, it'll add 1 to maxNum\n",
        "    if k % 2 == 0:\n",
        "        maxNum += min(remainder[k//2], 1) \n",
        "        \n",
        "    for i in range(1, k//2+1): # Why starting from 1? because we already done with 0 index. Upto half of the index.\n",
        "        if i != k-i: # In order to avoid if both indices are the same\n",
        "            maxNum += max(remainder[i], remainder[k-i]) # ex) i=1, k=4, remainder[1],reminder[3]. 1+3=4 which divisable by 4. \n",
        "                                                        # ex) i=2, k=5, remainder[2],remainder[3]. 2+3=5 which divisable by 5.\n",
        "                                                        # We can add both indices but the only one element which is the maximum element\n",
        "            \n",
        "    return maxNum"
      ],
      "metadata": {
        "id": "601AxZkfk8Q2"
      },
      "execution_count": null,
      "outputs": []
    },
    {
      "cell_type": "markdown",
      "source": [
        "47. Repeated String"
      ],
      "metadata": {
        "id": "yI0EuVpDQ5L9"
      }
    },
    {
      "cell_type": "code",
      "source": [
        "def repeatedString(s, n):\n",
        "    # Write your code here\n",
        "    \n",
        "    # Youtube solution\n",
        "    total = 0\n",
        "    # Part1. Counting 'a' in the original letter\n",
        "    for i in s:\n",
        "        if i=='a':\n",
        "            total+=1\n",
        "    # Part2a. Counting 'a' in the full length of repeated string\n",
        "    total = n//len(s)*total\n",
        "    # Part2b. Counting 'a' in the remaining length after the full length of repeated string\n",
        "    for i in s[:n%len(s)]: # From [0] to [remaining] of the remaining strings\n",
        "        if i=='a':\n",
        "            total+=1\n",
        "            \n",
        "    return total"
      ],
      "metadata": {
        "id": "p6Nb_tCaQ5ZY"
      },
      "execution_count": null,
      "outputs": []
    },
    {
      "cell_type": "markdown",
      "source": [
        "48. Jumping on the Clouds"
      ],
      "metadata": {
        "id": "_8MYdZbuYd3D"
      }
    },
    {
      "cell_type": "code",
      "source": [
        "def jumpingOnClouds(c):\n",
        "    # Write your code here\n",
        "    # count = 0\n",
        "    # i = 0\n",
        "    # while i<n-1:\n",
        "    #     i = (i+2)%n\n",
        "    #     if i==0:\n",
        "    #         count+=2\n",
        "    #     elif i==1:\n",
        "    #         i-=1\n",
        "    #         count+=1\n",
        "    # return count\n",
        "    \n",
        "    # Youtube solution\n",
        "    jump = 0 # counting jumps\n",
        "    i = 0 # index\n",
        "    while i < n-1: # because it reaches to the last loop. In order to compare index, the range has to be < n-1. \n",
        "                   # we are checking i+2 in the condition, that's why n-1 is there. if we use n, it will be out of range in the condition\n",
        "        # Condition 1.\n",
        "        if i+2 < n and c[i+2]==0: # After 2 index jump, i is less than n(in the range) and the index value is 0. If the index value != 0, go to the next condition.\n",
        "            jump+=1\n",
        "            i+=2 # It jumped 2 index\n",
        "        # Condition 2.\n",
        "        elif i+1 < n and c[i+1]==0: # After 1 index jump, i is less than n(in the range) and the index value is 0.\n",
        "            jump+=1\n",
        "            i+=1 # It jumped 1 index\n",
        "    return jump"
      ],
      "metadata": {
        "id": "GUDXb_VCYeCq"
      },
      "execution_count": null,
      "outputs": []
    },
    {
      "cell_type": "markdown",
      "source": [
        "49. Equalize the Array"
      ],
      "metadata": {
        "id": "VzdXKH-IcNWm"
      }
    },
    {
      "cell_type": "code",
      "source": [
        "from collections import Counter # Again, I need to master how to use Counter\n",
        "def equalizeArray(arr):\n",
        "    # Write your code here\n",
        "    # count = 0\n",
        "    # for i in range(len(arr)-1):\n",
        "    #     for j in range(1,len(arr)):\n",
        "    #         if arr[i]==arr[j]:\n",
        "    #             count+=1\n",
        "    # return n-count\n",
        "\n",
        "    # Youtube solution\n",
        "    c = Counter(arr)\n",
        "    return len(arr) - max(c.values()) # The idea is the same as mine but approach and apply is way diff\n",
        "    # max(c.values()) allows to find the maximum common value out of the array values."
      ],
      "metadata": {
        "id": "ceDptgQfcNjz"
      },
      "execution_count": null,
      "outputs": []
    },
    {
      "cell_type": "markdown",
      "source": [
        "50. Queen's Attack II (Medium)"
      ],
      "metadata": {
        "id": "R5C4fguLjkcj"
      }
    },
    {
      "cell_type": "code",
      "source": [
        "def queensAttack(n, k, r_q, c_q, obstacles):\n",
        "    # Write your code here\n",
        "    \n",
        "    # Youtube solution\n",
        "    total = 0\n",
        "    obs = {} # Create dict for obstacles\n",
        "    \n",
        "    for i,j in obstacles: # Iterate elements in the obstacles array\n",
        "        if i in obs: # already represent dict means\n",
        "            obs[i][j] = 1 # this is like 2d hash map or dict. 1 represent as corresponding number we have obstacle.\n",
        "        else: # if i is not present in the dict, create new one.\n",
        "            obs[i] = {j:1} # i represent row, j represent col.\n",
        "                           # why use dict? because 2d array consumes lots of memory. it represent rows and cols very well.\n",
        "            \n",
        "    def limit(x, y): # This method checks whether x and y index are within the range of n\n",
        "        return True if 1<=x<=n and 1<=y<=n else False # checks index starting from 1 to n. that's why 1<=x,y<=n\n",
        "                                                      # This 'one line if condition' can be used in the different problems\n",
        "    \n",
        "    def check(x, y, xi, yi): # x,y represent the position of the queen. xi,yi represent the increment of the cells\n",
        "        count = 0\n",
        "        x += xi\n",
        "        y += yi\n",
        "        \n",
        "        # Check for the condition\n",
        "        while limit(x, y) and obs.get(x,{}).get(y,0)==0:\n",
        "        # First, checking x,y indices are within the range -> limit(x,y). If it is satisfied, then checking the dict.\n",
        "        # getting x value -> obs.get(x,P{}): if x is not in the dict, it'll return an empty dict. if x is present in the dict means it'll return some value.\n",
        "        # getting y value -> obs.get(y,0)==0: if y is present in the dict means it'll return some value. Maybe 1.\n",
        "        # if y is not present means it'll return 0.\n",
        "        # The whole expression will return either 1 or 0. In this expression, if I don't use get(), it'll throw an error\n",
        "        \n",
        "            count += 1\n",
        "            x += xi\n",
        "            y += yi\n",
        "        return count\n",
        "    \n",
        "    # Define increment values\n",
        "    r = [0, 0, -1, 1, -1, 1, -1, 1] \n",
        "    c = [1, -1, 0, 0, -1, 1, 1, -1]                        # upper left, lower right\n",
        "    # up and down of the cell [0,0]  left and right [-1,1] diag [-1,1,-1,1]\n",
        "    #                         [1,-1]                [0,0]       [-1,1,1,-1]\n",
        "    \n",
        "    for i,j in zip(r,c): # This iterate each value of r,c\n",
        "        total += check(r_q, c_q, i, j) # x,y represent queen's position which is r_q,c_q\n",
        "                                       # the increment values are i,j\n",
        "                                       # After calling the function 8 times, it'll return the count that the queen can attack\n",
        "                                       # We'll increment the count the total\n",
        "    return total"
      ],
      "metadata": {
        "id": "sj4DeW0wjknD"
      },
      "execution_count": null,
      "outputs": []
    },
    {
      "cell_type": "markdown",
      "source": [
        "51. ACM ICPC Team"
      ],
      "metadata": {
        "id": "YtVa8qEJ9MWP"
      }
    },
    {
      "cell_type": "code",
      "source": [
        "def acmTeam(topic):\n",
        "    # Write your code here\n",
        "    \n",
        "    # Explane: sum each digits among elements/strings in the array, and find the how many maximum number of its permutations\n",
        "    # ex) (1,2)->4 means 10101+11100=21201 which has 4 digits that greater and equal to 1. (1,2,3,5)\n",
        "    # My apprach: convert each element to int, then iterate each digits for both elements to sum digits.\n",
        "                # If the sum is 1 or 2\n",
        "                \n",
        "    # count = 0\n",
        "    # for i in topic:\n",
        "    \n",
        "    # Youtube solution\n",
        "    maxsub = 0 # counting maxumum subject\n",
        "    count = 0 # to determine number of teams having the maximum subjects\n",
        "    \n",
        "    for i in range(n):\n",
        "        for j in range(i,n): # to combine two attendees using loops -> (1,2) (1,3)...\n",
        "            sub = 0\n",
        "            # There are two ways to combine two attendees. One is deals with bits but not going to use\n",
        "            # We're going to use string format. Take 1 and 0\n",
        "            for x,y in zip(topic[i], topic[j]): # It'll iterate each char from the both strings\n",
        "                if x=='1' or y=='1':\n",
        "                    sub+=1\n",
        "                    \n",
        "            if sub > maxsub:\n",
        "                maxsub = sub # If new sub is greater than maxsub, update maxsub to new sub\n",
        "                count = 1 # counting up again with new sub. That's why we don't use +=1 operation\n",
        "            elif sub == maxsub:\n",
        "                count += 1 # now counting up with +=1 because it's not new sub but another maxsub\n",
        "    \n",
        "    return [maxsub, count] # Here's why we initialize variable maxsub and count. And the problem requires to return an integer array for maxsub and its count"
      ],
      "metadata": {
        "id": "_24hDg2S9MeV"
      },
      "execution_count": null,
      "outputs": []
    },
    {
      "cell_type": "markdown",
      "source": [
        "52. Taum and B'day"
      ],
      "metadata": {
        "id": "OTDcNVN7FIaK"
      }
    },
    {
      "cell_type": "code",
      "source": [
        "def taumBday(b, w, bc, wc, z):\n",
        "    # Write your code here\n",
        "    # if bc==wc:\n",
        "    #     return b*bc+w*wc\n",
        "    # elif bc*z>wc and wc*z>bc:\n",
        "    #     return b*bc+w*wc\n",
        "    # elif bc>wc+z:\n",
        "    #     return (b+w)*wc+b*z\n",
        "    # elif wc>bc+z:\n",
        "    #     return (b+w)*bc+w*z\n",
        "\n",
        "    # Youtube solution\n",
        "    # We can solve the problem with min() operation\n",
        "    return min(b*bc + w*wc, bc*(w+b) + w*z, wc*(w+b) + b*z)\n",
        "    # b*bc + w*wc -> default\n",
        "    # bc*(w+b) + w*z -> bc*(w+b) is converting w to b. w*z is cost for conversion. \n",
        "    # wc*(w+b) + b*z -> wc*(w+b) is converting b to w. b*z is cost for conversion. "
      ],
      "metadata": {
        "id": "ftkUMetyFIoQ"
      },
      "execution_count": null,
      "outputs": []
    },
    {
      "cell_type": "markdown",
      "source": [
        "53. Organizing Containers of Balls (Medium)"
      ],
      "metadata": {
        "id": "lo1ApRrlEebf"
      }
    },
    {
      "cell_type": "code",
      "source": [
        "def organizingContainers(container):\n",
        "    # Write your code here\n",
        "    # I don't even know how to approach in coding for this problem.\n",
        "    \n",
        "    # Youtube solution\n",
        "    row = [0] * n # Initialize for row\n",
        "    col = [0] * n # Initialize for col\n",
        "    # row: containers, col: types of the balls\n",
        "    # Initializing everything with 0 upto length of n\n",
        "    \n",
        "    # Then iterate the matrix \n",
        "    for i in range(n):\n",
        "        for j in range(n):\n",
        "            # Now, we need to add the number of balls to the container\n",
        "            row[i] += container[i][j] # It'll traverse from left to right\n",
        "            col[i] += container[j][i] # It'll traverse from top to bottom. It calculates number of balls in the same type\n",
        "            \n",
        "    # Check for the condition\n",
        "    if sorted(row) == sorted(col):\n",
        "        return \"Possible\"\n",
        "    else:\n",
        "        return \"Impossible\"\n",
        "    # Why it works? because the problem just requires the possiblity of the swapping of the balls\n",
        "    # As you can see the matrix figures on the left, if it possible to swap the balls, the value of row and col should be matched.\n",
        "    # So double for loops is all about that. It just takes the values from the 2d array and store seperately/accumulately in the row and col array\n",
        "            "
      ],
      "metadata": {
        "id": "MaWoKw5bEej8"
      },
      "execution_count": null,
      "outputs": []
    },
    {
      "cell_type": "markdown",
      "source": [
        "54. Encryption (Medium)"
      ],
      "metadata": {
        "id": "kqjxBj5RdpzM"
      }
    },
    {
      "cell_type": "code",
      "source": [
        "from math import *\n",
        "def encryption(s):\n",
        "    # Write your code here\n",
        "    \n",
        "    # Youtube solution\n",
        "    n = len(s) # Find the length of s\n",
        "    r = floor(sqrt(n)) # Find the row of the texts\n",
        "    c = ceil(sqrt(n)) # Find the col of the texts\n",
        "    result = [] # Initialize the result with list to store values\n",
        "    \n",
        "    # We need to seperate the char in column -> Use loop\n",
        "    for i in range(c): # This i to iterate chars in column\n",
        "        temp = [] # To store the chars\n",
        "        j = 0 # Initialize j as 0. -> The first char\n",
        "        while i+j<n:\n",
        "            temp.append(s[i+j])\n",
        "            j+=c # Incrementing j by c. -> Add chars from j=0 to c(column) much. ex)ifmanwas, meanttos. Then change the row by for i in range(c)\n",
        "        \n",
        "        result.append(\"\".join(temp)) # Store temp result in final result\n",
        "        # Temp list is a list of chars. We're joining it as a string. This operation will give strings like this \"imtgdvs fearwer mayoogo anouuio ntnnlvt wttddes aohghn sseoau\"\n",
        "    \n",
        "    # Return the result with the space in between\n",
        "    return \" \".join(result) # The result will have each word individually. The join() operation will insert space"
      ],
      "metadata": {
        "id": "qvaIetdadp8b"
      },
      "execution_count": null,
      "outputs": []
    },
    {
      "cell_type": "markdown",
      "source": [
        "55. Bigger is Greater (Medium)"
      ],
      "metadata": {
        "id": "D9xX_hZPd2UW"
      }
    },
    {
      "cell_type": "code",
      "source": [
        "def biggerIsGreater(w):\n",
        "    # Write your code here\n",
        "    \n",
        "    # Youtube solution\n",
        "    result = '' # Initialize result with string\n",
        "    n = len(w)\n",
        "    w = list(w) # Convert strings to list of char. -> Change any char to swap\n",
        "    \n",
        "    i = n-2 # Set the i 1 behind from the end of the array\n",
        "    while i >= 0 and w[i] >= w[i+1]: # w[i] points the starting word and w[i+1] checks the next word.\n",
        "        i -= 1                       # With >=, it compares w[i] is greater and equal to w[i+1]. Then decrease i because it needs to iterate from back to front. If it doesn't satisfy the condition, break the loop.\n",
        "                                     # ex) w=abcd, len(w)=4. If i=c, it checks c is greater and equal to d\n",
        "    \n",
        "    # Check for the condition\n",
        "    if i == -1: # Out of the string\n",
        "        result = \"no answer\"\n",
        "    else:\n",
        "        j = n-1 # j points [2], the last char of the string\n",
        "        while j >= i and w[j] <= w[i]:\n",
        "            j -= 1\n",
        "            \n",
        "        w[i],w[j] = w[j],w[i] # This is one line swapping operation code in python\n",
        "        w = \"\".join(w) # It'll convert list as string\n",
        "        result = w[:i+1] + w[i+1:][::-1] # [::-1] reverse the last string\n",
        "        # ex) dkhc. -> else conditrion: i=d and j=c(last char)\n",
        "        # After swapping, hkdc, reversing the string from i+1\n",
        "        # After reversing, hcdk, the answer\n",
        "    return result"
      ],
      "metadata": {
        "id": "30Z7mfCOd2dB"
      },
      "execution_count": null,
      "outputs": []
    },
    {
      "cell_type": "markdown",
      "source": [
        "56. Modified Kaprekar Numbers"
      ],
      "metadata": {
        "id": "lMGOICj6dhaI"
      }
    },
    {
      "cell_type": "code",
      "source": [
        "def kaprekarNumbers(p, q):\n",
        "    # Write your code here\n",
        "    # org = int(sqrt(q))\n",
        "    # if org\n",
        "    # My approach: check sqrt(q) is integer number. If yes, check 2+base.\n",
        "    # I get that what the Kaprekar Number and how that works but don't get how to print the modified Kaprekar numbers in the range between p and q.\n",
        "    \n",
        "    # Youtube solution\n",
        "    result = []\n",
        "    \n",
        "    for i in range(p, q+1): # It has to travers from p to q -> q+1\n",
        "        sqr = str(i**2) # Power operation to store square number and convert to string for seperation\n",
        "        n = len(sqr) # To get n\n",
        "        \n",
        "        # Check for the condition\n",
        "        if i == 1:\n",
        "            result.append(i) # Becuase 1^2 = 1\n",
        "        elif n>1 and i==int(sqr[:n//2]) + int(sqr[n//2:]): # left part + right part\n",
        "                                                           # Why we need to check n>1? becuase if n=2, 2^2=4 which is not a Kaprekar number. 3 goes the same.\n",
        "                                                           # n=1 means we cannot spliting the number. That's why we check that condition in the first.\n",
        "            result.append(i)\n",
        "        # Don't need else part\n",
        "        \n",
        "    # Check for the final condition\n",
        "    if len(result)==0: # For the no Kaprekar number case\n",
        "        print(\"INVALID RANGE\")\n",
        "    else:\n",
        "        print(*result) # It'll print the result in a single line with the space between like the sample of the output\n",
        "                       # It' called 'Variadic Parameters'. In this case, it is used for unpackaging the container type data(list,tuple,dict)"
      ],
      "metadata": {
        "id": "okFRemwUdhj-"
      },
      "execution_count": null,
      "outputs": []
    },
    {
      "cell_type": "markdown",
      "source": [
        "57. Beautiful Triplets"
      ],
      "metadata": {
        "id": "XR41zGv837Of"
      }
    },
    {
      "cell_type": "code",
      "source": [
        "from collections import Counter\n",
        "def beautifulTriplets(d, arr):\n",
        "    # Write your code here\n",
        "    # count = 0\n",
        "    # for i in range(len(arr)):\n",
        "    #     for j in range(len(arr)):\n",
        "    #         for k in range(len(arr)):\n",
        "    #             while arr[i]<arr[j] and arr[j]<arr[k]:\n",
        "    #                 if arr[j]-arr[i]==d and arr[k]-arr[j]==d:\n",
        "    #                     count += 1\n",
        "    # return count\n",
        "\n",
        "    # Youtube solution\n",
        "    m = Counter(arr) # Create the hash map\n",
        "    count = 0 # Initialize count\n",
        "    \n",
        "    # Iterate the number from the array\n",
        "    for num in arr:\n",
        "        # Check for the condition\n",
        "        if m[num + d] and m[num + d + d]: # It takes numbers from the array and apply it in the condition\n",
        "                                          # ex) arr=[1, 2, 4, 5, 7, 8, 10] num=1, d=3\n",
        "                                          # m[num + d] -> 1+3=4 then it checks 4 is in the array.\n",
        "                                          # m[num + d + d] -> 1+3+3=7 then it checks 7 is in the array.\n",
        "                                          # If both numbers are in the array -> beautiful triplet -> count 1\n",
        "            count += 1\n",
        "    return count"
      ],
      "metadata": {
        "id": "OsKZZL0837YI"
      },
      "execution_count": null,
      "outputs": []
    },
    {
      "cell_type": "markdown",
      "source": [
        "58. Minimum Distances"
      ],
      "metadata": {
        "id": "MuS4YqZbCSaQ"
      }
    },
    {
      "cell_type": "code",
      "source": [
        "def minimumDistances(a):\n",
        "    # Write your code here\n",
        "    # distance = sys.maxsize\n",
        "    # diff = 0\n",
        "    # for i in range(n):\n",
        "    #     for j in range(i+1, n):\n",
        "    #         diff+=abs(i-j)\n",
        "    #     distance = min(distance, diff)\n",
        "    # return distance\n",
        "            \n",
        "    \n",
        "    # Youtube solution\n",
        "    distance = sys.maxsize # It finds the maximum value of int \n",
        "    for i in range(n):\n",
        "        for j in range(i+1, n):\n",
        "            # Check for the condition\n",
        "            if a[i] == a[j]:\n",
        "                distance = min(distance, j-i) # It'll assign minimum distance to the variable\n",
        "                \n",
        "    # Chekc for the another condition\n",
        "    if distance == sys.maxsize:\n",
        "        return -1\n",
        "    else:\n",
        "        return distance"
      ],
      "metadata": {
        "id": "EuK9KhA6CSlN"
      },
      "execution_count": null,
      "outputs": []
    },
    {
      "cell_type": "markdown",
      "source": [
        "59. Halloween Sale"
      ],
      "metadata": {
        "id": "mgOu27kj8OKe"
      }
    },
    {
      "cell_type": "code",
      "source": [
        "def howManyGames(p, d, m, s):\n",
        "    # Return the number of games you can buy\n",
        "    count = 0\n",
        "    while p <= s:\n",
        "        s-=p # Subtract the price from the Starting units of currency\n",
        "        p = max(p-d, m) # The new p, sale price which is p-d. If p-d is less than m, m going to be the price to subtract.\n",
        "        count += 1\n",
        "    return count"
      ],
      "metadata": {
        "id": "MjCPW6u08OWg"
      },
      "execution_count": null,
      "outputs": []
    },
    {
      "cell_type": "markdown",
      "source": [
        "60. The Time in Words"
      ],
      "metadata": {
        "id": "69-VO-EXjpcJ"
      }
    },
    {
      "cell_type": "code",
      "source": [
        "def timeInWords(h, m):\n",
        "    # Write your code here\n",
        "    time = {1:\"one\", 2:\"two\", 3:\"three\", 4:\"four\" , 5:\"five\",6:\"six\",7:\"seven\",8:\"eight\",9:\"nine\",10:\"ten\",11:\"eleven\",12:\"twelve\",13:\"thirteen\",14:\"fourteen\",15:\"fifteen\",16:\"sixteen\",17:\"seventeen\",18:\"eighteen\",19:\"nineteen\",20:\"twenty\",21:\"twenty one\",22:\"twenty two\",23:\"twenty three\",24:\"twenty four\",25:\"twenty five\",26:\"twenty six\",27:\"twenty seven\",28:\"twenty eight\",29:\"twenty nine\"}\n",
        "    \n",
        "    if m == 0:\n",
        "        return time[h] + \" o' clock\"\n",
        "    elif m == 30:\n",
        "        return \"half past \" + time[h]\n",
        "    elif m < 30:\n",
        "        if m == 1:\n",
        "            return \"one minute past \" + time[h]\n",
        "        if m == 15:\n",
        "            return \"quarter past \" + time[h]\n",
        "        else:\n",
        "            return time[m] + \" minutes past \"+ time[h]\n",
        "    else:\n",
        "        # Setup the new hour and minutes for the minutes > 30\n",
        "        m = 60-m\n",
        "        h += 1\n",
        "        \n",
        "        if m == 1:\n",
        "            return \"one minute to \" + time[h]\n",
        "        if m == 15:\n",
        "            return \"quarter to \" + time[h]\n",
        "        else:\n",
        "            return time[m] + \" minutes to \"+ time[h]"
      ],
      "metadata": {
        "id": "LYWseR9bjplZ"
      },
      "execution_count": null,
      "outputs": []
    },
    {
      "cell_type": "markdown",
      "source": [
        "61. Chocolate Feast "
      ],
      "metadata": {
        "id": "PULlPZPOE-s7"
      }
    },
    {
      "cell_type": "code",
      "source": [
        "def chocolateFeast(n, c, m):\n",
        "    # Write your code here\n",
        "    # count = 0\n",
        "    # while n>=m:\n",
        "    #     n-c\n",
        "    #     count+=1\n",
        "    #     if count == m:\n",
        "    #         count+=1\n",
        "    # return count\n",
        "    #-------------\n",
        "    # choco = n // c\n",
        "    # wraps = (n%c) // m\n",
        "    # return choco + wraps\n",
        "\n",
        "    # Youtube solution\n",
        "    choco = n // c\n",
        "    wraps = choco\n",
        "    while wraps >= m:\n",
        "        choco += wraps // m # Update the new choco\n",
        "        wraps = (wraps // m) + (wraps % m) # Need to update the wraps including the remaining ones\n",
        "    return choco"
      ],
      "metadata": {
        "id": "2yg0EHW7E-4z"
      },
      "execution_count": null,
      "outputs": []
    },
    {
      "cell_type": "markdown",
      "source": [
        "62. Service Lane"
      ],
      "metadata": {
        "id": "KDbOi_YLwfL9"
      }
    },
    {
      "cell_type": "code",
      "source": [
        "def serviceLane(n, cases):\n",
        "    # Write your code here\n",
        "    # My approach: check the starting index i and ending index j from the cases array. \n",
        "    #              find the values from i index to j index from the width array. Then find the min value\n",
        "    # My problem: don't know how to handle the arrays in the cases array.\n",
        "    \n",
        "    result = []\n",
        "    \n",
        "    for i,j in cases: # Iterate the cases. i is entry, j is exit\n",
        "        result.append(min(width[i:j+1])) # First, slice the array into entry i and exit j. Then find the min value. Finally, add it to the result\n",
        "        # The range is to j+1 because j index should be included\n",
        "    return result"
      ],
      "metadata": {
        "id": "wrwSGdhNwfVh"
      },
      "execution_count": null,
      "outputs": []
    },
    {
      "cell_type": "markdown",
      "source": [
        "63. Lisa's Workbook"
      ],
      "metadata": {
        "id": "Sm2l6XmxC4rf"
      }
    },
    {
      "cell_type": "code",
      "source": [
        "def workbook(n, k, arr):\n",
        "    # Write your code here\n",
        "    \n",
        "    # Youtube solution\n",
        "    count = 0\n",
        "    page = 1\n",
        "    \n",
        "    for prob in arr: # prob represent the max problem in the chapter\n",
        "        for index in range(1, prob+1): # If the chapter contains 4 problems, it iterates from 1 to 4\n",
        "            # Check for the condition\n",
        "            if index == page:\n",
        "                count+=1\n",
        "                \n",
        "            # Check for the another condition for another number\n",
        "            if index == prob or index % k == 0: # index==prob: index reaches to the end of the problem (page2 in the ex). \n",
        "                                                # index%k==0: the problem reaches to the maximum problem for the page(page1 in the ex).\n",
        "                page+=1 # If one of the condtitions matches, page +1 to start the new page\n",
        "        \n",
        "    return count"
      ],
      "metadata": {
        "id": "VQn4SL64C40n"
      },
      "execution_count": null,
      "outputs": []
    },
    {
      "cell_type": "markdown",
      "source": [
        "64. Flatland Space Stations"
      ],
      "metadata": {
        "id": "kXgW_23gDCcR"
      }
    },
    {
      "cell_type": "code",
      "source": [
        "def flatlandSpaceStations(n, c):\n",
        "    # dist = []\n",
        "    # temp = []\n",
        "    # for i in n:\n",
        "    #     for j in c:\n",
        "    #         temp.append = abs(j-i)\n",
        "    #         dist.append = min(dist)\n",
        "    # return max(dist)\n",
        "    \n",
        "    # Youtube solution\n",
        "    answer = 0\n",
        "    c.sort() # Sort the station list because these values are unordered and unique\n",
        "    \n",
        "    for i in range(1, len(c)): # Iterate the station\n",
        "        # Condition\n",
        "        answer = max(answer, (c[i]-c[i-1]) // 2) # Calculating distance between stations and dividing by 2 ex) between station means c[i]-c[i-1]\n",
        "                                                 # ex) If station is 0,4. 4-0=4. 4//2=2\n",
        "                                                 # Do the same thing for the rest of the station - to find the maximum distance\n",
        "        \n",
        "    # Check for the ??? cases\n",
        "    answer = max(answer, c[0], n-1 - c[-1]) # c[0]:first station. It represents the distance between the first city for the first station.\n",
        "                                            # n-1: It represents the last city. c[-1]: It represents the last station.\n",
        "                                            # It'll store the maximum distance to the answer. The loop is for finding the distances in the intermediate cities. This is for the first and last city\n",
        "    \n",
        "    return answer\n",
        "\n"
      ],
      "metadata": {
        "id": "90L7zaThDCkt"
      },
      "execution_count": null,
      "outputs": []
    },
    {
      "cell_type": "markdown",
      "source": [
        "65. Fair Rations"
      ],
      "metadata": {
        "id": "69AyVxw9A1Qp"
      }
    },
    {
      "cell_type": "code",
      "source": [
        "def fairRations(B):\n",
        "    # Write your code here\n",
        "    # count = 0\n",
        "    # n = len(B)\n",
        "    \n",
        "    # if n <= 2:\n",
        "    #     if (B[0]+B[1])%2 != 0:\n",
        "    #         return \"NO\"\n",
        "    #     else:\n",
        "            \n",
        "    # elif B[n-1]%2 != 0:\n",
        "    #     return (n//2)*2\n",
        "\n",
        "    # Youtube solution\n",
        "    breads = 0\n",
        "    n = len(B)\n",
        "    \n",
        "    # Iterate the person\n",
        "    for i in range (n-1): # If iterating to n, it'll be out of range. It's not available to distribute the breads. ex) b[i+1] += 1\n",
        "        # Check for the condition\n",
        "        if B[i]%2 == 1: # If the person has odd number of breads, we need to make it even. Then distribute bread to the next person\n",
        "            breads += 2 # Distributing breads for the current person and the person next to current\n",
        "            B[i+1] += 1 # Increament bread of the next person\n",
        "            # We don't need to update the current person's bread because it'll be even after adding. So, it doesn't need to consider.\n",
        "            \n",
        "    # Final condition\n",
        "    if B[n-1]%2 == 1: # If last person has odd number of breads, it's not possible to distribute the even number of breads.\n",
        "        return \"NO\"\n",
        "    else:\n",
        "        return str(breads) # It only accepts the string type of data"
      ],
      "metadata": {
        "id": "hMGZDdvdA1Zv"
      },
      "execution_count": null,
      "outputs": []
    },
    {
      "cell_type": "markdown",
      "source": [
        "66. Cavity Map"
      ],
      "metadata": {
        "id": "9Y0VrTjg35IY"
      }
    },
    {
      "cell_type": "code",
      "source": [
        "def cavityMap(grid):\n",
        "    # Write your code here\n",
        "    # My approach: First, check the length of grid is greater and equal to 3x3 because if less than that, the grid are surrounded on all sides = Not enough depth.\n",
        "    #              Then, check the grid element is 9 from 1 to n-1 because it has to be surrounded by the cells.\n",
        "    #              If it found element, 9, switch to X.\n",
        "    \n",
        "    # n = len(grid)\n",
        "    # if n < 3:\n",
        "    #     return grid\n",
        "    # else:\n",
        "    #     for i in range(1,n-1):\n",
        "    #         for j in range(1, n-1):\n",
        "    #             if grid[j] == \"9\":\n",
        "    #                 grid[j] = \"X\"\n",
        "    #     return grid\n",
        "    \n",
        "    # Youtube soultion\n",
        "    \n",
        "    # We cannot change the item in string because string is immutable. So, we need to convert string matrix to char matrix\n",
        "    grid = [list(x) for x in grid] # Iterating each row from the grid and converting it as list. After changing to list, we can do the below operation.\n",
        "    \n",
        "    for i in range(1, n-1): # We don't need to consider the border, so exclude first and last elements\n",
        "        for j in range(1, n-1): # This is for the column, same as for the row\n",
        "            # Check for the condition with the current cell.\n",
        "            if grid[i][j] > grid[i-1][j] and grid[i][j] > grid[i+1][j] and grid[i][j] > grid[i][j-1] and grid[i][j] > grid[i][j+1]:\n",
        "            # Check for the condition in row wise: grid[i-1], grid[i+1]\n",
        "            # Check for the condition in column wise: grid[j-1], grid[j+1]\n",
        "                grid[i][j] = \"X\" # If the condition satisfies, change the current grid to X\n",
        "                \n",
        "    return [\"\".join(x) for x in grid] # It requires to return list in string. So, it needs to use join() to joining the list. It'll conbine the list of char as a entire string."
      ],
      "metadata": {
        "id": "2HJPzsUc35Re"
      },
      "execution_count": null,
      "outputs": []
    },
    {
      "cell_type": "markdown",
      "source": [
        "67. Manasa and Stones"
      ],
      "metadata": {
        "id": "o13qNkXpf4hG"
      }
    },
    {
      "cell_type": "code",
      "source": [
        "def stones(n, a, b):\n",
        "    # Write your code here\n",
        "    # I don't even understand the problem.\n",
        "    # Youtube advices that if you can't understand the question properly, check the pattern of the sample input and output.\n",
        "    # ex) a=10, b=100. From the back, 300-100+10=210, 210-100+10=120, 120-100+10=30\n",
        "    \n",
        "    result = set() # Initialize with set() because we need to find multiple values\n",
        "    if a > b: # Find min diff and max diff in order to find pattern\n",
        "        a,b = b,a # After swapping, b will have greater value and a will have smaller value\n",
        "        \n",
        "    for i in range(n):\n",
        "        result.add(i*a + (n-1 - i) * b) # i*a is for increasing the min value that we found in the pattern\n",
        "                                # n-1 is number of stones. a=10, b=100. So, each time we decrease by 100 and increase by 10\n",
        "                                # in (n-1-i)..why we subtracted i in that? // it should go back in reverse for b, that's why -i is included\n",
        "                                # or we can just incment by (b-a) ? // yes we can do that also\n",
        "                                # This is the pattern to find all possible stones\n",
        "\n",
        "    # Finally, we sort the result and return it                           \n",
        "    return sorted(list(result)) # This will convert the set to list. Then sort it and return it."
      ],
      "metadata": {
        "id": "vFaRHXQCf4pa"
      },
      "execution_count": null,
      "outputs": []
    },
    {
      "cell_type": "markdown",
      "source": [
        "68. The Grid Search (Medium)"
      ],
      "metadata": {
        "id": "ZOGqtl5xVBou"
      }
    },
    {
      "cell_type": "code",
      "source": [
        "def gridSearch(G, P):\n",
        "    # Write your code here\n",
        "    # My approach: Maybe zip() can be used but I think use double for loop to match the char from each strings\n",
        "    \n",
        "    # for i in range(len(G)):\n",
        "    #     for j in range(len(P)):\n",
        "            # if G[i]==P[j]:\n",
        "            #     for k in range\n",
        "    \n",
        "    # Youtube solution\n",
        "    # Approach: iterate each element in the matrix. If the element is matched with the first element in the pattern, call certain function to check the rest of the pattern is matched with the grid.\n",
        "    \n",
        "    # Check function\n",
        "    def check(x,y):\n",
        "        # Use for loop to traverse the pattern rows\n",
        "        for i in range(r): # Use r because it's traversing the pattern rows\n",
        "            if P[i] != G[x+i][y:y+c]: # P[i] represents the entire row. G[x+i] represents the corresponding row.\n",
        "            # We use listlizing to extract the element from the grid\n",
        "            # If both pattern are the same, the loop continues to the next row and it goes to the entire pattern\n",
        "                return False\n",
        "        return True # The whole condition checks for the pattern and returns True, if the pattern is in the grid\n",
        "            \n",
        "    for i in range(R):\n",
        "        for j in range(C):\n",
        "            if G[i][j] == P[0][0]: # Check for the element with the first element in the pattern\n",
        "                if check(i,j): # Passing i,j element(index) to check function. If true, return YES\n",
        "                    return \"YES\"\n",
        "    return \"NO\"\n",
        "    # Now create the check function. (Go to the check function)"
      ],
      "metadata": {
        "id": "7cLaxC6ZVBxq"
      },
      "execution_count": null,
      "outputs": []
    },
    {
      "cell_type": "markdown",
      "source": [
        "69. Happy Ladybugs"
      ],
      "metadata": {
        "id": "mScS8hWlOg-S"
      }
    },
    {
      "cell_type": "code",
      "source": [
        "from collections import Counter\n",
        "def happyLadybugs(b):\n",
        "    # Write your code here\n",
        "    # if \"_\" not in b: # First, check there is no \"_\", then return NO\n",
        "    #     return \"NO\"\n",
        "    # else:\n",
        "    #     if (len(b)==1 and \"_\" in b) or (len(b)==2 and \"__\" in b): # Second, if len(b)=1 and has \"_\" or len(b)=2 and has \"__\", then return YES\n",
        "    #         return \"YES\"\n",
        "    #     count = {} # Create dict\n",
        "    #     for i in b:\n",
        "    #         try: count[i]+=1 # If the string is already in the dict, just add 1\n",
        "    #         except: count[i]=1 # If the string is not in the dict, add 1 for new char\n",
        "    #     for j in count:\n",
        "    #         if count[j]<2: # If the value in the dict has less than 2, return \"NO\"\n",
        "    #             return \"NO\" # The problem is why the sample test \"X_Y__X\" doesn't work\n",
        "    #         else:\n",
        "    #             return \"YES\"\n",
        "            \n",
        "    # Youtube solution\n",
        "    # In order to count the common char, he imported Counter. Counter used to create dict\n",
        "    bugs = Counter(b) # The result will be for each char, the corresponding count will be the value\n",
        "    \n",
        "    for i,j in bugs.items(): # It'll return the key value of bugs\n",
        "        # Check the condition for the second case which is \"X_Y__X\", number of lady bugs is only one\n",
        "        if i != \"_\" and j == 1: # First, no considering \"_\" and number of char = 1 means no ladybugs happy(not valid in this problem)\n",
        "            return \"NO\"\n",
        "            \n",
        "    if bugs[\"_\"] > 0: # Check whether a empty cell, \"_\", is present. So, lady bugs happy\n",
        "        return \"YES\"\n",
        "    \n",
        "    else: # When there is no \"_\" and the initial string itself, lady bugs happy. ex)\"B_RRBR\"\n",
        "          # Which means check the lady bugs happy initially       \n",
        "        pair = 0 # For checking the pair of char\n",
        "        for i in range(len(b)-1): # Need to iterate the initial string itself. len(b)-1 because we need to check the char from current and the next one.\n",
        "            if b[i]==b[i+1]: # Need to check the current cell and the next cell have the same char\n",
        "                pair += 1 # If it matched, increament by 1\n",
        "            elif pair > 0: # If the adjacent char is not equal, set the pair = 0\n",
        "                pair = 0\n",
        "            else:\n",
        "                return \"NO\"\n",
        "        return \"YES\""
      ],
      "metadata": {
        "id": "g7CxJ_anOhIo"
      },
      "execution_count": null,
      "outputs": []
    },
    {
      "cell_type": "markdown",
      "source": [
        "70. Strange Counter"
      ],
      "metadata": {
        "id": "N2ZiVceZfknY"
      }
    },
    {
      "cell_type": "code",
      "source": [
        "def strangeCounter(t):\n",
        "    # Write your code here\n",
        "    # for i in range(t):\n",
        "    #     org = 3\n",
        "    #     value = org\n",
        "    #     for j in range(value):\n",
        "    #         value -= 1\n",
        "    #         if value < 1:\n",
        "    #             org = org*2\n",
        "    # return value\n",
        "    \n",
        "    # l = []\n",
        "    # l[0]=3\n",
        "    # for i in range(t):\n",
        "    #     l.append(l[i]-1)\n",
        "    #     if l[i] == 0:\n",
        "    #         l[i] = l[0]*2\n",
        "    \n",
        "    # Youtube solution\n",
        "    time = 3 # Initialize time\n",
        "    \n",
        "    while True: # Initialize infinite loop\n",
        "        t -= time # 1) If t=4, 4-3 = 1   3) 1-6= -5. This satisfies the if condition.\n",
        "        if t <= 0: # 2)This if condition is not satisfied. So, it'll go to the next cycle -> time*2 = 6. Now, time is 6\n",
        "            t += time # 4) Increase time to the past number. So, 1+5 = 6\n",
        "            return time - t + 1 # 5) Returning the answer 6-1+1 = 6\n",
        "        # Next cycle\n",
        "        time *= 2\n",
        "        \n",
        "    # Approach is like this: decreament the entire cycle. If the time still has the positive number, \n",
        "    # it'll go to the next cycle. And the process goes on continuously until it reaches 0 or neg number. If it hits 0, it decrease the time by t and +1, in order to get the value"
      ],
      "metadata": {
        "id": "P3p0KmSXfkxF"
      },
      "execution_count": null,
      "outputs": []
    },
    {
      "cell_type": "markdown",
      "source": [
        "71. 3D Surface Area (Medium)"
      ],
      "metadata": {
        "id": "4-YRGubBVMdr"
      }
    },
    {
      "cell_type": "code",
      "source": [
        "def surfaceArea(A):\n",
        "    # Write your code here\n",
        "    \n",
        "    # Youtube solution\n",
        "    # First, calculate the area for the top and botton\n",
        "    area = 2 * H * W # H*W covers the board area. *2 because it's covering 2 sides, top and bottom\n",
        "    \n",
        "    # Defining check method which checks the limit (Last coding)\n",
        "    def check(i, j):\n",
        "        # Return the value if it is within the range. Else, return 0\n",
        "        return A[x+i][y+j] if 0<=x+i<H and 0<=y+j<W else 0 # 'if' condition checks for the row and col range. If it satisfies the condition, it'll return the value from the matrix, else return 0\n",
        "    \n",
        "    # Remaining surfaces. It need to consider the adjacents\n",
        "    xi = [0,0,1,-1] # Define the increments\n",
        "    yi = [1,-1,0,0] # The adjacents will be 0,1 and 0,-1 and 1,0 and -1,0. These are the adjacents which need to be iterated\n",
        "    \n",
        "    # Iterate matrix\n",
        "    for x in range(H): # Row\n",
        "        for y in range(W): # Column\n",
        "            for i,j in zip(xi,yi): # For each iteration, it'll iterate the each value from xi and yi\n",
        "                # Gives area from adjacent cells\n",
        "                area += max(0, A[x][y] - check(i, j)) # Why using check()? Sometimes 4th row and last col (which touch the most outside) go over the range. So, we need to return 0\n",
        "            \n",
        "    return area"
      ],
      "metadata": {
        "id": "Tom0OkXiVMme"
      },
      "execution_count": null,
      "outputs": []
    },
    {
      "cell_type": "markdown",
      "source": [
        "72. Absolute Permutation (Medium)"
      ],
      "metadata": {
        "id": "3TTVyeVjd_qZ"
      }
    },
    {
      "cell_type": "code",
      "source": [
        "def absolutePermutation(n, k):\n",
        "    # Write your code here\n",
        "    # p = []\n",
        "    # for i in range(1,n+1):\n",
        "    #     for j in range(1,n+1):\n",
        "    #         if abs(j-i)==k:\n",
        "    #             p.append(j)\n",
        "    #         else:\n",
        "    #             return -1\n",
        "    # return p\n",
        "\n",
        "    # Youtube solution\n",
        "    \n",
        "    a = list(range(n+1)) # Initialize the array. It'll return the array which start with 0\n",
        "\n",
        "    if k==0: # Check for the condition 1. If k=0\n",
        "        return a[1:] # Then return the array which starts from 1 index. -> because it uses 1 based indexing\n",
        "    if n%2 == 1: # Check for the condition 2. n is odd\n",
        "        return [-1] # n is odd means we cannot get the absolute permutation even by swapping.\n",
        "    \n",
        "    \n",
        "    # Main logic\n",
        "    for i in range(1, n-k+1): # Why upto n-k+1? In the example, when k=2, n-k is also 2. After traversing 2 times, we'll get the absolute permutation, after swapping.\n",
        "        # Check for the condition\n",
        "        if a[i] == a[i+k]-k: # If a[i]=1, a[i+k]=3.\n",
        "            a[i], a[i+k] = a[i+k], a[i] # Swap the element\n",
        "        elif abs(i-a[i]) != k: # If the value is not equal means the absolute difference must be k\n",
        "            return [-1] # If the absoulte diff is not equal to k, we cannot get the abs permutation. So return -1\n",
        "    # After running the loop upto n-k, need to run start from n-k to the end of the loop\n",
        "    for i in range(n-k+1, n+1): \n",
        "        if abs(i-a[i]) != k: # Just need to check this condition only which above here\n",
        "            return [-1]\n",
        "        \n",
        "    return a[1:]"
      ],
      "metadata": {
        "id": "vluVYxKdd_yF"
      },
      "execution_count": null,
      "outputs": []
    },
    {
      "cell_type": "markdown",
      "source": [
        "73. The Bomberman Game (Medium)"
      ],
      "metadata": {
        "id": "XuGF4wKP_1w0"
      }
    },
    {
      "cell_type": "code",
      "source": [
        "def bomberMan(n, grid):\n",
        "    # Write your code here\n",
        "    # I briefly understood the game rule but not clearly, specifically\n",
        "    # After watching youtube solution's explanation, I understood the rule clearly\n",
        "    \n",
        "    # Youtube solution\n",
        "    # Check for the initial state\n",
        "    if n==1: # n==1 means after 1 sec. So, just return grid\n",
        "        return grid\n",
        "    \n",
        "    # 2nd case, all cells are filled up with bombs\n",
        "    if n%2==0: # All the cells are filled up with bombs. So, return grid which all cells with 'O'\n",
        "        return ['O'*c for i in range(r)] # This creates i*c matrix filled with 'O' -> bombs\n",
        "    \n",
        "    # 3rd case, alternate states\n",
        "    n //= 2# We know the 'even' seconds are filled with bombs. So, remove the even states\n",
        "    for q in range((n+1) % 2 + 1): # This checks for all the alternate states\n",
        "                                   # ex) n=3, 3+1=4. 4%2=0. 0+1=1. After this operation, we get 1. So, it'll iterate 1 time.\n",
        "                                   # This means, from the initial state, it directly goes to 3rd state, detonating all the initial bombs\n",
        "                                   # ex) n=4, 4+1=5. 5%2=1. 1+1=2. So, it'll find the 2nd state\n",
        "        newgrid = [['O']*c for i in range(r)] # Create new grid filled with bombs \n",
        "        \n",
        "        # Create method for detonation\n",
        "        def set(x,y): \n",
        "            if 0<=x<r and 0<=y<c: # Check index is valid = checks rows and cols are within the limit\n",
        "                newgrid[x][y] = '.' # If it satisfies the limit, change cells to empty\n",
        "        \n",
        "        # If the bomb detonates, we need to destroys the adjacent cells. So, it destroys the current cell and adjacent cells\n",
        "        xi=[0,0,0,1,-1] # First, (0,0) then, (0,-1),(0,1),(1,0),(-1,0)\n",
        "        yi=[0,-1,1,0,0]\n",
        "        \n",
        "        for x in range(r):\n",
        "            for y in range(c):\n",
        "                if grid[x][y] == 'O': # Check whether the bomb is present or not\n",
        "                    for i,j in zip(xi, yi):# Detonate the cell by calling method\n",
        "                        set(x+i, y+j) # It'll call the method for 5 adjacent cells including current cells, and change to empty\n",
        "                        \n",
        "        grid = newgrid # After changing it for the entire state, change it to newgrid\n",
        "                       # So, if it iterate 1 time, it'll change to 3rd state(line)\n",
        "                       # If it iterate another time, it'll go to the 4th state(line)\n",
        "                       \n",
        "    return [\"\".join(x) for x in grid] # We need to change the row to the string"
      ],
      "metadata": {
        "id": "PYt8a3O8_156"
      },
      "execution_count": null,
      "outputs": []
    },
    {
      "cell_type": "markdown",
      "source": [
        "74. Ema's Supercomputer (Medium)"
      ],
      "metadata": {
        "id": "7eO8WbURW67o"
      }
    },
    {
      "cell_type": "code",
      "source": [
        "def twoPluses(grid):\n",
        "    # Write your code here\n",
        "    # I understood the concept of the problem but didn't understand the logic espeically how the cells become pluses cells.\n",
        "    # After watching youtube solution, I understand the logic, especially how the single plus cell works. But I still don't understand how to code for this logic.\n",
        "    \n",
        "    # Youtube solution\n",
        "    temp = []# Create a boarder for the matrix to avoid INDEX ERROR\n",
        "    temp.append(['O'] * (m+2)) # 'm' represents col. This is FIRST ROW\n",
        "    \n",
        "    for i in range(n):\n",
        "        temp.append(['O'] + list(grid[i]) + ['O']) # Append 'O's on the sides. This is for GRID ROWS\n",
        "        # grid[i] is STRING type -> need to convert to LIST type for ease of changing values\n",
        "    temp.append(['O'] * (m+2)) # This is LAST ROW\n",
        "    \n",
        "    grid = temp\n",
        "    # # Below loop is just for checking the grid is well surrounded with 'O's\n",
        "    # for row in grid:\n",
        "    #     print(*row) # This will print entire row \n",
        "    \n",
        "    answer = 0 # To store the answer\n",
        "    \n",
        "    # Iterate for the FIRST plus (LOWER letters -> FIRST plus)\n",
        "    for i in range(1, n+1): # iterate from 1 till n+1 because we have boarder. 'n' represents ROW\n",
        "        for j in range(1, m+1): # 'm' represents COL\n",
        "            # 'r' will track the PLUS\n",
        "            r = 0\n",
        "            # Check for the GOOD cells\n",
        "            while grid[i+r][j] == 'G' and grid[i-r][j] == 'G' and grid[i][j+r] == 'G' and grid[i][j-r] == 'G': # Checking good cells all the sides -> expends to UP,DOWN,LEFT,RIGHT\n",
        "            # Checking TOP:[i+r][j], BOT:[i-r][j], RIGHT:[i][j+r], LEFT:[i][j-r]\n",
        "                \n",
        "                grid[i+r][j] = grid[i-r][j] = grid[i][j+r] = grid[i][j-r] = 'g' # If it satisfies the condition, change value to 'g' -> In order to avoid OVERLAP\n",
        "            \n",
        "                # Iterate for the SECOND plus (UPPER letters -> SECOND plus)\n",
        "                for I in range(1, n+1):\n",
        "                    for J in range(1, m+1):\n",
        "                        # 'R' will trank the PLUS (Same as above)\n",
        "                        R = 0\n",
        "                        # Check for the GOOD cells\n",
        "                        while grid[I+R][J] == 'G' and grid[I-R][J] == 'G' and grid[I][J+R] == 'G' and grid[I][J-R] == 'G':\n",
        "                            answer = max(answer, (4*r + 1) * (4*R + 1))# If it satisfies the condition, update the answer. -> Maximum product will be stored to answer\n",
        "                            # for the FIRST cell (4*r+1). for the SECOND cell (4*R+1)\n",
        "                            # 4 -> adjacent cells. +1 -> center cell\n",
        "                            R += 1 # Check adjacent cells can be grown. 1x1 -> 2x2 -> 3x3 ...\n",
        "                                   # This loop continues until it reaches the bigger plus\n",
        "                                   # This is for the SECOND plus\n",
        "                r += 1 # Same thing above for the FIRST plus \n",
        "                \n",
        "            # After all operation is completed, we need to REVERSE 'g' to 'G'\n",
        "            r = 0 # To start from the center cell.\n",
        "            # Copy and paste codes from above\n",
        "            while grid[i+r][j] == 'g' and grid[i-r][j] == 'g' and grid[i][j+r] == 'g' and grid[i][j-r] == 'g':\n",
        "                grid[i+r][j] = grid[i-r][j] = grid[i][j+r] = grid[i][j-r] = 'G' \n",
        "                r += 1\n",
        "                \n",
        "    return answer"
      ],
      "metadata": {
        "id": "8tVSotPyW7EG"
      },
      "execution_count": null,
      "outputs": []
    },
    {
      "cell_type": "markdown",
      "source": [
        "75. Larry's Array (Medium)"
      ],
      "metadata": {
        "id": "xzXM7cbtSRHN"
      }
    },
    {
      "cell_type": "code",
      "source": [
        "def larrysArray(A):\n",
        "    # Write your code here\n",
        "    # My approach: sort the array A, then find the existance of the next value along with current value from the first to the end element of the array. -> WRONG APPROACH\n",
        "    \n",
        "    # Youtube solution -> It says this problem is similar to 15 tile puzzle problem -> Google it if you don't know about it -> It's a puzzle that I played with when I was young. The puzzle has 1 empty space and make the puzzle in sorted number.\n",
        "    \n",
        "    # LOGIC: Check whether the number of inversion is even or divisible by 2.\n",
        "        # inversion? : If you pick a number to the left side of array, the number of elements greater than the selected number is the inversion\n",
        "       # ex) for 5 -> 1 inversion, which is 6. for 2, -> 2 inversion, 6 and 5. \n",
        "           # So, 5->1, 2->2, 4->2, 3->3 => 1 + 2 + 2 + 3 = 8 inversions. It's divisible by 2. So, it's able to rotate\n",
        "    \n",
        "    s = 0 # Number of inversions\n",
        "    # Loop for calculating number of inversions\n",
        "    for i in range(n):\n",
        "        for j in range(i+1, n):\n",
        "            if A[i] > A[j]:\n",
        "                s += 1\n",
        "    \n",
        "    # Check the result is even or not\n",
        "    if s%2 == 0:\n",
        "        return \"YES\"\n",
        "    else:\n",
        "        return \"NO\""
      ],
      "metadata": {
        "id": "9jZvDMd3SRQw"
      },
      "execution_count": null,
      "outputs": []
    },
    {
      "cell_type": "markdown",
      "source": [
        "76. Almost Sorted (Medium)"
      ],
      "metadata": {
        "id": "uuojbB4kYz7N"
      }
    },
    {
      "cell_type": "code",
      "source": [
        "from copy import *\n",
        "def almostSorted(arr):\n",
        "    # Write your code here\n",
        "    # Hardtime to understand the question\n",
        "    # Help with the video's explanation:\n",
        "    # 1. If the array is already sorted, print YES\n",
        "    # 2. If the array 'CAN' be sorted, print YES. Then dicide swap(a) or reverse(b)\n",
        "    # 3. If the array cannot be sorted, print NO\n",
        "    # I understand the logic and concept of the problem but don't know how to implement the code\n",
        "    \n",
        "    # Youtube solution\n",
        "    # First, import everything from copy library -> to duplicate the array\n",
        "    sortArr = deepcopy(arr) # deepcopy() -> copy the targeted array elements. \n",
        "                            #            ***If any changes in the sortArr, it'll reflect back to the original array. -> That's why we use deepcopy here.\n",
        "    sortArr.sort() # sort the array\n",
        "    \n",
        "    # Case 1. - If the array is already sorted, print YES\n",
        "    if sortArr == arr:\n",
        "        print(\"yes\")\n",
        "        return # return the function(method)\n",
        "    \n",
        "    # Case 2. - If the array 'CAN' be sorted, print YES.\n",
        "    # In the 2nd cond, we need to find the left and right indices.\n",
        "    # ex) 1 5 4 3 2 6 -> 2,5 indices because it starts from 1\n",
        "    \n",
        "    # With using 2 loops to find the left index and the right index\n",
        "    l = r = -1 # both indices are -1\n",
        "    # For LEFT index.\n",
        "    for i in range(n-1): # We need to compare 2 elements -> That's why travel upto n-1\n",
        "        if arr[i] > arr[i+1]:\n",
        "            l = i\n",
        "            break\n",
        "        \n",
        "    # For RIGHT index\n",
        "    for i in range(n-1, 0, -1):\n",
        "        if arr[i] < arr[i-1]:\n",
        "            r = i\n",
        "            break\n",
        "        \n",
        "    # Check for SWAP\n",
        "    temp = deepcopy(arr) # copy of the array\n",
        "    \n",
        "    # Swap the index\n",
        "    temp[l], temp[r] = temp[r], temp[l]\n",
        "    \n",
        "    # Check for the condition after swapping\n",
        "    if temp == sortArr:\n",
        "        print(\"yes\")\n",
        "        print(\"swap\", l+1, r+1)\n",
        "        return\n",
        "    \n",
        "    # Case 3. - Check for the reverse\n",
        "    temp = deepcopy(arr) # copy of the array\n",
        "    \n",
        "    # Reverse operation\n",
        "    temp = temp[:l] + temp[l:r+1][::-1] + temp[r+1:] # temp[:l] -> same as the left of the index\n",
        "                                                     # temp[l:r+1][::-1] -> reverse op\n",
        "                                                     # temp[r+1:] -> stop the array? rest of the array?\n",
        "                                                     \n",
        "    # Check for the condition after reversing\n",
        "    if temp == sortArr:\n",
        "        print(\"yes\")\n",
        "        print(\"reverse\", l+1, r+1)\n",
        "        return\n",
        "    \n",
        "    # Array can't be sorted\n",
        "    print(\"no\")\n",
        "    \n",
        "    ### Why we used 'RETURN'? -> because we need to go back to the main function whether going further lines. If you don't use return, it'll go further lines of codes to execute!! MAKE SURE TO USE RETURN!!"
      ],
      "metadata": {
        "id": "IybDavqtY0Dz"
      },
      "execution_count": null,
      "outputs": []
    }
  ]
}