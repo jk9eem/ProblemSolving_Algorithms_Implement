{
  "nbformat": 4,
  "nbformat_minor": 0,
  "metadata": {
    "colab": {
      "name": "Problem Solving-Implementation.ipynb",
      "provenance": [],
      "include_colab_link": true
    },
    "kernelspec": {
      "name": "python3",
      "display_name": "Python 3"
    },
    "language_info": {
      "name": "python"
    }
  },
  "cells": [
    {
      "cell_type": "markdown",
      "metadata": {
        "id": "view-in-github",
        "colab_type": "text"
      },
      "source": [
        "<a href=\"https://colab.research.google.com/github/jk9eem/ProblemSolving_Implement/blob/main/Problem_Solving_Implementation.ipynb\" target=\"_parent\"><img src=\"https://colab.research.google.com/assets/colab-badge.svg\" alt=\"Open In Colab\"/></a>"
      ]
    },
    {
      "cell_type": "markdown",
      "source": [
        "Migratory Birds"
      ],
      "metadata": {
        "id": "nvHdrh37l1Dh"
      }
    },
    {
      "cell_type": "code",
      "execution_count": null,
      "metadata": {
        "id": "A-BD3ujrLZaI"
      },
      "outputs": [],
      "source": [
        "def migratoryBirds(arr):\n",
        "    # Write your code here\n",
        "    # count=0\n",
        "    # cnt=[]\n",
        "    # for i in range(len(arr)):\n",
        "    #     if i == arr[i]:\n",
        "    #         cnt[i]+=1\n",
        "    # maxNum=max(cnt)\n",
        "    # print(maxNum)\n",
        "                     #Initialize the list to count. \n",
        "    l = [0]*len(arr) # It's guaranteed that each type is less than len(arr)\n",
        "    for i in range(len(arr)):\n",
        "        l[arr[i]]+=1 # If arr[1] is 4, increase value at l[4]\n",
        "    \n",
        "    return l.index(max(l)) # return the max number of index of l"
      ]
    },
    {
      "cell_type": "markdown",
      "source": [
        "Day of the Programmer"
      ],
      "metadata": {
        "id": "uugfpK9KlqtH"
      }
    },
    {
      "cell_type": "code",
      "source": [
        "def dayOfProgrammer(year):\n",
        "    # Write your code here\n",
        "    # if year>1918:\n",
        "    #     if year%400==0 and year%4==0 and year%100!=0:\n",
        "    #         mm=256//29\n",
        "    #         dd=256%29\n",
        "    # else:\n",
        "    #     mm=256//28\n",
        "    #     dd=256%28\n",
        "    \n",
        "    # strMM=str(mm)\n",
        "    # strDD=str(dd)\n",
        "    # strYear=str(year)\n",
        "    # print(strMM+\".\"+strDD+\".\"+strYear)\n",
        "    \n",
        "    if year == 1918: # specific year, 1918\n",
        "        return \"26.09.1918\"\n",
        "    # elif (year<=1917 and year%4==0) or (year>1918 and (year%400==0 or (year%4==0 and year%100!=100))):\n",
        "    elif ((year <= 1917) & (year%4 == 0)) or ((year > 1918) & (year%400 == 0 or ((year%4 == 0) & (year%100 != 0)))):\n",
        "        return \"12.09.%s\" %year # leap year for before 1917 and after 1918\n",
        "    else:\n",
        "        return \"13.09.%s\" %year\n",
        "    \n",
        "    # this problem's problem was hard to understand the problem.\n",
        "    # still not figured out yet"
      ],
      "metadata": {
        "id": "12ewJC71lj-W"
      },
      "execution_count": null,
      "outputs": []
    },
    {
      "cell_type": "markdown",
      "source": [
        "Bill Division(Bon Appetit)"
      ],
      "metadata": {
        "id": "KfAuGF19Nxit"
      }
    },
    {
      "cell_type": "code",
      "source": [
        "def bonAppetit(bill, k, b):\n",
        "    # Write your code here\n",
        "    actual=(sum(bill)-bill[k])//2\n",
        "    if (b-actual)==0:\n",
        "        print(\"Bon Appetit\")\n",
        "    else:\n",
        "        print(b-actual)"
      ],
      "metadata": {
        "id": "STca-elqNw-v"
      },
      "execution_count": null,
      "outputs": []
    },
    {
      "cell_type": "markdown",
      "source": [
        "Sales by Match(Sock Merchant)"
      ],
      "metadata": {
        "id": "d1zPxiGffCua"
      }
    },
    {
      "cell_type": "code",
      "source": [
        "def sockMerchant(n, ar):\n",
        "    # Write your code here\n",
        "    # pairs=[0]*n\n",
        "    # for i in range(n):\n",
        "    #     pairs[ar[i]]+=1\n",
        "    \n",
        "    count=0 # to count number of pairs\n",
        "    d = {} # create dictionary to count number of socks for each color\n",
        "    \n",
        "    for i in ar:          # if i is already existed in the dict,\n",
        "        d[i] = d.get(i,0)+1 # it'll return of value, if it's not, return 0\n",
        "    \n",
        "    for i in d.keys():   # total number of socks for the particular color.\n",
        "        count += d[i]//2 # And //2 for counting pair. If a single color, it'll return 0. So, that's ok\n",
        "        \n",
        "    return count"
      ],
      "metadata": {
        "id": "-dZqtHumfFDk"
      },
      "execution_count": null,
      "outputs": []
    },
    {
      "cell_type": "markdown",
      "source": [
        "Drawing Book "
      ],
      "metadata": {
        "id": "xIkSyiX2BkDk"
      }
    },
    {
      "cell_type": "code",
      "source": [
        "def pageCount(n, p):\n",
        "    # Write your code here\n",
        "    # print(min(p//2, p//2-n//2))\n",
        "    \n",
        "    # count the flipping page number from the front and back, then find the minimum number\n",
        "    # counting from the front\n",
        "    front = p//2 # If count the target page from the front, just divide by 2 out of the page\n",
        "    # ---------------------------------------\n",
        "    #back = (n-p)//2 # It's the same approach. Get rid of the part from the front to the page, \n",
        "                    # then divide by 2 to count. But when page number is even, it should be treated diff\n",
        "    # counting from the back\n",
        "    if n%2==1:          # even number of length of the book to count from the back\n",
        "        back = (n-p)//2 # ex) from pg6 to pg2. It needs to flip 2 pages. (6-2)//2 = 2\n",
        "    else:               \n",
        "        back = (n-p+1)//2 # odd number of length of the book to count from the back\n",
        "                          # ex) from pg7 to pg2. It also needs to flip 2 pages. (7-2+1)//2 = 2\n",
        "                          # It's like making this condition as even number of page\n",
        "    return min(front,back)"
      ],
      "metadata": {
        "id": "s4bejkgdBkYg"
      },
      "execution_count": null,
      "outputs": []
    },
    {
      "cell_type": "markdown",
      "source": [
        "Counting Valleys"
      ],
      "metadata": {
        "id": "zcokLIiCoRkr"
      }
    },
    {
      "cell_type": "code",
      "source": [
        "def countingValleys(steps, path):\n",
        "    # Write your code here\n",
        "    valleys = 0\n",
        "    levels = 0\n",
        "    for i in path:\n",
        "        if i=='U':\n",
        "            levels+=1\n",
        "        if i=='D':\n",
        "            levels-=1\n",
        "        if levels==0 and i=='U':\n",
        "            valleys+=1\n",
        "    return valleys\n",
        "    \n",
        "    # key point is U and D makes mountain and D and U makes valley.\n",
        "    # So, when the sea level is 0 with U, it's valley\n",
        "    # mine is correct but lets look at the Youtube solution with using dict\n",
        "    # valleys = levels = 0\n",
        "    # d = {'U':1, 'D':-1} # set up the dict. U is 1 and D is -1\n",
        "    # for i in steps:    # Calculate(adding) each elements and save value into levels\n",
        "    #     levels += d[i] # ex) UDDDUDUU = 1+(-1)+(-1)+(-1)+1+(-1)+1+1\n",
        "    #     if levels==0 and i=='U': # When sea level is 0 with 'U', it's a valley\n",
        "    #         valleys+=1\n",
        "    # return valleys"
      ],
      "metadata": {
        "id": "vFZtNn0DoR_P"
      },
      "execution_count": null,
      "outputs": []
    },
    {
      "cell_type": "markdown",
      "source": [
        "Electronics Shop"
      ],
      "metadata": {
        "id": "wadPhxRPBvVg"
      }
    },
    {
      "cell_type": "code",
      "source": [
        "def getMoneySpent(keyboards, drives, b):\n",
        "    #\n",
        "    # Write your code here.\n",
        "    # l = []\n",
        "    # for i in keyboards:\n",
        "    #     for j in drives:\n",
        "    #         # l = i+j #this is wrong I should use append if it works\n",
        "    #         if i+j<=b:\n",
        "    #             l.append(i+j)\n",
        "            \n",
        "    # if max(l)>b:\n",
        "    #     return -1\n",
        "    # else:\n",
        "    #     return max(l)\n",
        "    # What I've tried is save summed value to arr l, then find the max value. But it didn't work.\n",
        "    \n",
        "    maxAmount = -1 # basic setup for returning -1, especially for each arr has a single element\n",
        "                   # and the total amount is bigger than budget, b.\n",
        "                   # ex) budget=5, keyboards=4, drives=5. So, Total=9. It's bigger than budget\n",
        "    for i in keyboards:\n",
        "        for j in drives:\n",
        "            if i+j<=b:\n",
        "                maxAmount=max(maxAmount, i+j)\n",
        "    return maxAmount\n",
        "    \n",
        "    # somebody's answer is interesting - one line pythonic code\n",
        "    # return max([sum([x,y]) for x in keyboards for y in drives if sum([x,y]) <= b]+[-1])"
      ],
      "metadata": {
        "id": "MZHXTOQEBvb7"
      },
      "execution_count": null,
      "outputs": []
    },
    {
      "cell_type": "markdown",
      "source": [
        "Cats and a Mouse"
      ],
      "metadata": {
        "id": "6geKAHwp__1V"
      }
    },
    {
      "cell_type": "code",
      "source": [
        "def catAndMouse(x, y, z):\n",
        "    #Write the code here\n",
        "    catA=abs(x-z)\n",
        "    catB=abs(y-z)\n",
        "    if catA==catB:\n",
        "        return \"Mouse C\"\n",
        "    elif catA<catB:\n",
        "        return \"Cat A\"\n",
        "    else:\n",
        "        return \"Cat B\""
      ],
      "metadata": {
        "id": "sQ8QYShr__-H"
      },
      "execution_count": null,
      "outputs": []
    },
    {
      "cell_type": "markdown",
      "source": [
        "Forming a Magic Square"
      ],
      "metadata": {
        "id": "O4mmaKjPhWu2"
      }
    },
    {
      "cell_type": "code",
      "source": [
        "def formingMagicSquare(s):\n",
        "    # Write your code here\n",
        "    # I have no idea at all\n",
        "    \n",
        "    # There are magic square numbers on the internet\n",
        "    # magic = [[8, 1, 6, 3, 5, 7, 4, 9, 2], [6, 1, 8, 7, 5, 3, 2, 9, 4], [4, 3, 8, 9, 5, 1, 2, 7, 6], \n",
        "    # [2, 7, 6, 9, 5, 1, 4, 3, 8],  [2, 9, 4, 7, 5, 3, 6, 1, 8], [4, 9, 2, 3, 5, 7, 8, 1, 6], \n",
        "    # [6, 7, 2, 1, 5, 9, 8, 3, 4], [8, 3, 4, 1, 5, 9, 6, 7, 2]]\n",
        "    \n",
        "    s = sum(s,[]) # convert 2d to 1d. Sum of matrix s to single\n",
        "    \n",
        "    # Then we need to convert out matrix to magic matrix\n",
        "    # We can use seperate program to find the magic square matrix or use the existing 3x3 magic matrix\n",
        "    magic = [[8, 1, 6, 3, 5, 7, 4, 9, 2], [6, 1, 8, 7, 5, 3, 2, 9, 4], [4, 3, 8, 9, 5, 1, 2, 7, 6], [2, 7, 6, 9, 5, 1, 4, 3, 8],  [2, 9, 4, 7, 5, 3, 6, 1, 8], [4, 9, 2, 3, 5, 7, 8, 1, 6], [6, 7, 2, 1, 5, 9, 8, 3, 4], [8, 3, 4, 1, 5, 9, 6, 7, 2]]\n",
        "    \n",
        "    minCost = sys.maxsize # sys.maxsize is to find the maximum value of int. For initial purpose only\n",
        "    \n",
        "    for mag in magic:\n",
        "        diff = 0\n",
        "        for i,j in zip(s,mag): # zip() allows to link/connect from two diff arrays(same len)\n",
        "                               # with taking iterable object(s) and returns it/them\n",
        "            diff+=abs(i-j) # add the difference between magic number and the original matrix\n",
        "        minCost = min(minCost, diff) # save the minimum value\n",
        "    \n",
        "    return minCost"
      ],
      "metadata": {
        "id": "8g8GEiVLhW1T"
      },
      "execution_count": null,
      "outputs": []
    }
  ]
}