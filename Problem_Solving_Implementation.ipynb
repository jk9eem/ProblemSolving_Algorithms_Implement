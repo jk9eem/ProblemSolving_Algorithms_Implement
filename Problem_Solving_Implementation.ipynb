{
  "nbformat": 4,
  "nbformat_minor": 0,
  "metadata": {
    "colab": {
      "name": "Problem Solving-Implementation.ipynb",
      "provenance": [],
      "include_colab_link": true
    },
    "kernelspec": {
      "name": "python3",
      "display_name": "Python 3"
    },
    "language_info": {
      "name": "python"
    }
  },
  "cells": [
    {
      "cell_type": "markdown",
      "metadata": {
        "id": "view-in-github",
        "colab_type": "text"
      },
      "source": [
        "<a href=\"https://colab.research.google.com/github/jk9eem/ProblemSolving_Implement/blob/main/Problem_Solving_Implementation.ipynb\" target=\"_parent\"><img src=\"https://colab.research.google.com/assets/colab-badge.svg\" alt=\"Open In Colab\"/></a>"
      ]
    },
    {
      "cell_type": "markdown",
      "source": [
        "Migratory Birds"
      ],
      "metadata": {
        "id": "nvHdrh37l1Dh"
      }
    },
    {
      "cell_type": "code",
      "execution_count": null,
      "metadata": {
        "id": "A-BD3ujrLZaI"
      },
      "outputs": [],
      "source": [
        "def migratoryBirds(arr):\n",
        "    # Write your code here\n",
        "    # count=0\n",
        "    # cnt=[]\n",
        "    # for i in range(len(arr)):\n",
        "    #     if i == arr[i]:\n",
        "    #         cnt[i]+=1\n",
        "    # maxNum=max(cnt)\n",
        "    # print(maxNum)\n",
        "                     #Initialize the list to count. \n",
        "    l = [0]*len(arr) # It's guaranteed that each type is less than len(arr)\n",
        "    for i in range(len(arr)):\n",
        "        l[arr[i]]+=1 # If arr[1] is 4, increase value at l[4]\n",
        "    \n",
        "    return l.index(max(l)) # return the max number of index of l"
      ]
    },
    {
      "cell_type": "markdown",
      "source": [
        "Day of the Programmer"
      ],
      "metadata": {
        "id": "uugfpK9KlqtH"
      }
    },
    {
      "cell_type": "code",
      "source": [
        "def dayOfProgrammer(year):\n",
        "    # Write your code here\n",
        "    # if year>1918:\n",
        "    #     if year%400==0 and year%4==0 and year%100!=0:\n",
        "    #         mm=256//29\n",
        "    #         dd=256%29\n",
        "    # else:\n",
        "    #     mm=256//28\n",
        "    #     dd=256%28\n",
        "    \n",
        "    # strMM=str(mm)\n",
        "    # strDD=str(dd)\n",
        "    # strYear=str(year)\n",
        "    # print(strMM+\".\"+strDD+\".\"+strYear)\n",
        "    \n",
        "    if year == 1918: # specific year, 1918\n",
        "        return \"26.09.1918\"\n",
        "    # elif (year<=1917 and year%4==0) or (year>1918 and (year%400==0 or (year%4==0 and year%100!=100))):\n",
        "    elif ((year <= 1917) & (year%4 == 0)) or ((year > 1918) & (year%400 == 0 or ((year%4 == 0) & (year%100 != 0)))):\n",
        "        return \"12.09.%s\" %year # leap year for before 1917 and after 1918\n",
        "    else:\n",
        "        return \"13.09.%s\" %year\n",
        "    \n",
        "    # this problem's problem was hard to understand the problem.\n",
        "    # still not figured out yet"
      ],
      "metadata": {
        "id": "12ewJC71lj-W"
      },
      "execution_count": null,
      "outputs": []
    },
    {
      "cell_type": "markdown",
      "source": [
        "Bill Division(Bon Appetit)"
      ],
      "metadata": {
        "id": "KfAuGF19Nxit"
      }
    },
    {
      "cell_type": "code",
      "source": [
        "def bonAppetit(bill, k, b):\n",
        "    # Write your code here\n",
        "    actual=(sum(bill)-bill[k])//2\n",
        "    if (b-actual)==0:\n",
        "        print(\"Bon Appetit\")\n",
        "    else:\n",
        "        print(b-actual)"
      ],
      "metadata": {
        "id": "STca-elqNw-v"
      },
      "execution_count": null,
      "outputs": []
    },
    {
      "cell_type": "markdown",
      "source": [
        "Sales by Match(Sock Merchant)"
      ],
      "metadata": {
        "id": "d1zPxiGffCua"
      }
    },
    {
      "cell_type": "code",
      "source": [
        "def sockMerchant(n, ar):\n",
        "    # Write your code here\n",
        "    # pairs=[0]*n\n",
        "    # for i in range(n):\n",
        "    #     pairs[ar[i]]+=1\n",
        "    \n",
        "    count=0 # to count number of pairs\n",
        "    d = {} # create dictionary to count number of socks for each color\n",
        "    \n",
        "    for i in ar:          # if i is already existed in the dict,\n",
        "        d[i] = d.get(i,0)+1 # it'll return of value, if it's not, return 0\n",
        "    \n",
        "    for i in d.keys():   # total number of socks for the particular color.\n",
        "        count += d[i]//2 # And //2 for counting pair. If a single color, it'll return 0. So, that's ok\n",
        "        \n",
        "    return count"
      ],
      "metadata": {
        "id": "-dZqtHumfFDk"
      },
      "execution_count": null,
      "outputs": []
    },
    {
      "cell_type": "markdown",
      "source": [
        "Drawing Book "
      ],
      "metadata": {
        "id": "xIkSyiX2BkDk"
      }
    },
    {
      "cell_type": "code",
      "source": [
        "def pageCount(n, p):\n",
        "    # Write your code here\n",
        "    # print(min(p//2, p//2-n//2))\n",
        "    \n",
        "    # count the flipping page number from the front and back, then find the minimum number\n",
        "    # counting from the front\n",
        "    front = p//2 # If count the target page from the front, just divide by 2 out of the page\n",
        "    # ---------------------------------------\n",
        "    #back = (n-p)//2 # It's the same approach. Get rid of the part from the front to the page, \n",
        "                    # then divide by 2 to count. But when page number is even, it should be treated diff\n",
        "    # counting from the back\n",
        "    if n%2==1:          # even number of length of the book to count from the back\n",
        "        back = (n-p)//2 # ex) from pg6 to pg2. It needs to flip 2 pages. (6-2)//2 = 2\n",
        "    else:               \n",
        "        back = (n-p+1)//2 # odd number of length of the book to count from the back\n",
        "                          # ex) from pg7 to pg2. It also needs to flip 2 pages. (7-2+1)//2 = 2\n",
        "                          # It's like making this condition as even number of page\n",
        "    return min(front,back)"
      ],
      "metadata": {
        "id": "s4bejkgdBkYg"
      },
      "execution_count": null,
      "outputs": []
    },
    {
      "cell_type": "markdown",
      "source": [
        "Counting Valleys"
      ],
      "metadata": {
        "id": "zcokLIiCoRkr"
      }
    },
    {
      "cell_type": "code",
      "source": [
        "def countingValleys(steps, path):\n",
        "    # Write your code here\n",
        "    valleys = 0\n",
        "    levels = 0\n",
        "    for i in path:\n",
        "        if i=='U':\n",
        "            levels+=1\n",
        "        if i=='D':\n",
        "            levels-=1\n",
        "        if levels==0 and i=='U':\n",
        "            valleys+=1\n",
        "    return valleys\n",
        "    \n",
        "    # key point is U and D makes mountain and D and U makes valley.\n",
        "    # So, when the sea level is 0 with U, it's valley\n",
        "    # mine is correct but lets look at the Youtube solution with using dict\n",
        "    # valleys = levels = 0\n",
        "    # d = {'U':1, 'D':-1} # set up the dict. U is 1 and D is -1\n",
        "    # for i in steps:    # Calculate(adding) each elements and save value into levels\n",
        "    #     levels += d[i] # ex) UDDDUDUU = 1+(-1)+(-1)+(-1)+1+(-1)+1+1\n",
        "    #     if levels==0 and i=='U': # When sea level is 0 with 'U', it's a valley\n",
        "    #         valleys+=1\n",
        "    # return valleys"
      ],
      "metadata": {
        "id": "vFZtNn0DoR_P"
      },
      "execution_count": null,
      "outputs": []
    },
    {
      "cell_type": "markdown",
      "source": [
        "Electronics Shop"
      ],
      "metadata": {
        "id": "wadPhxRPBvVg"
      }
    },
    {
      "cell_type": "code",
      "source": [
        "def getMoneySpent(keyboards, drives, b):\n",
        "    #\n",
        "    # Write your code here.\n",
        "    # l = []\n",
        "    # for i in keyboards:\n",
        "    #     for j in drives:\n",
        "    #         # l = i+j #this is wrong I should use append if it works\n",
        "    #         if i+j<=b:\n",
        "    #             l.append(i+j)\n",
        "            \n",
        "    # if max(l)>b:\n",
        "    #     return -1\n",
        "    # else:\n",
        "    #     return max(l)\n",
        "    # What I've tried is save summed value to arr l, then find the max value. But it didn't work.\n",
        "    \n",
        "    maxAmount = -1 # basic setup for returning -1, especially for each arr has a single element\n",
        "                   # and the total amount is bigger than budget, b.\n",
        "                   # ex) budget=5, keyboards=4, drives=5. So, Total=9. It's bigger than budget\n",
        "    for i in keyboards:\n",
        "        for j in drives:\n",
        "            if i+j<=b:\n",
        "                maxAmount=max(maxAmount, i+j)\n",
        "    return maxAmount\n",
        "    \n",
        "    # somebody's answer is interesting - one line pythonic code\n",
        "    # return max([sum([x,y]) for x in keyboards for y in drives if sum([x,y]) <= b]+[-1])"
      ],
      "metadata": {
        "id": "MZHXTOQEBvb7"
      },
      "execution_count": null,
      "outputs": []
    },
    {
      "cell_type": "markdown",
      "source": [
        "Cats and a Mouse"
      ],
      "metadata": {
        "id": "6geKAHwp__1V"
      }
    },
    {
      "cell_type": "code",
      "source": [
        "def catAndMouse(x, y, z):\n",
        "    #Write the code here\n",
        "    catA=abs(x-z)\n",
        "    catB=abs(y-z)\n",
        "    if catA==catB:\n",
        "        return \"Mouse C\"\n",
        "    elif catA<catB:\n",
        "        return \"Cat A\"\n",
        "    else:\n",
        "        return \"Cat B\""
      ],
      "metadata": {
        "id": "sQ8QYShr__-H"
      },
      "execution_count": null,
      "outputs": []
    },
    {
      "cell_type": "markdown",
      "source": [
        "Forming a Magic Square"
      ],
      "metadata": {
        "id": "O4mmaKjPhWu2"
      }
    },
    {
      "cell_type": "code",
      "source": [
        "def formingMagicSquare(s):\n",
        "    # Write your code here\n",
        "    # I have no idea at all\n",
        "    \n",
        "    # There are magic square numbers on the internet\n",
        "    # magic = [[8, 1, 6, 3, 5, 7, 4, 9, 2], [6, 1, 8, 7, 5, 3, 2, 9, 4], [4, 3, 8, 9, 5, 1, 2, 7, 6], \n",
        "    # [2, 7, 6, 9, 5, 1, 4, 3, 8],  [2, 9, 4, 7, 5, 3, 6, 1, 8], [4, 9, 2, 3, 5, 7, 8, 1, 6], \n",
        "    # [6, 7, 2, 1, 5, 9, 8, 3, 4], [8, 3, 4, 1, 5, 9, 6, 7, 2]]\n",
        "    \n",
        "    s = sum(s,[]) # convert 2d to 1d. Sum of matrix s to single\n",
        "    \n",
        "    # Then we need to convert out matrix to magic matrix\n",
        "    # We can use seperate program to find the magic square matrix or use the existing 3x3 magic matrix\n",
        "    magic = [[8, 1, 6, 3, 5, 7, 4, 9, 2], [6, 1, 8, 7, 5, 3, 2, 9, 4], [4, 3, 8, 9, 5, 1, 2, 7, 6], [2, 7, 6, 9, 5, 1, 4, 3, 8],  [2, 9, 4, 7, 5, 3, 6, 1, 8], [4, 9, 2, 3, 5, 7, 8, 1, 6], [6, 7, 2, 1, 5, 9, 8, 3, 4], [8, 3, 4, 1, 5, 9, 6, 7, 2]]\n",
        "    \n",
        "    minCost = sys.maxsize # sys.maxsize is to find the maximum value of int. For initial purpose only\n",
        "    \n",
        "    for mag in magic:\n",
        "        diff = 0\n",
        "        for i,j in zip(s,mag): # zip() allows to link/connect from two diff arrays(same len)\n",
        "                               # with taking iterable object(s) and returns it/them\n",
        "            diff+=abs(i-j) # add the difference between magic number and the original matrix\n",
        "        minCost = min(minCost, diff) # save the minimum value\n",
        "    \n",
        "    return minCost"
      ],
      "metadata": {
        "id": "8g8GEiVLhW1T"
      },
      "execution_count": null,
      "outputs": []
    },
    {
      "cell_type": "markdown",
      "source": [
        "Picking Numbers"
      ],
      "metadata": {
        "id": "1qxpVznb7C1o"
      }
    },
    {
      "cell_type": "code",
      "source": [
        "from collections import Counter\n",
        "def pickingNumbers(a):\n",
        "    # Write your code here\n",
        "    # count=0\n",
        "    # for i in range(len(a)-1):\n",
        "    #     if abs(a[i]-a[i+1])==0 or abs(a[i]-a[i+1])==1:\n",
        "    #         count+=1\n",
        "    # return count+1\n",
        "                     # Counter() is for counting the elements in the array\n",
        "    arr = Counter(a) # Create dict from list of integers\n",
        "    maxNum = 0 # Initialize maximum number\n",
        "    \n",
        "    for i in range(100): # constraints:0<a[i]<100 (1 to 99)\n",
        "        maxNum = max(maxNum, arr[i]+arr[i+1]) # find the maximum number\n",
        "    return maxNum"
      ],
      "metadata": {
        "id": "ZQ4vT9dA7C_g"
      },
      "execution_count": null,
      "outputs": []
    },
    {
      "cell_type": "markdown",
      "source": [
        "Climbing the Leaderboard (Medium)"
      ],
      "metadata": {
        "id": "VtLX1FrXhFF0"
      }
    },
    {
      "cell_type": "code",
      "source": [
        "def climbingLeaderboard(ranked, player):\n",
        "    # Write your code here\n",
        "    # l = ranked + player\n",
        "    # l.sort()\n",
        "    # l.reverse()\n",
        "    # curr=0\n",
        "    # for i in range(len(l)):\n",
        "    #     if l[i]>l[i+1]:\n",
        "    #         curr+=1\n",
        "    #         print(curr)\n",
        "    #     else:\n",
        "    #         print(curr)\n",
        "    \n",
        "    # Wrong interpretation. and the approach was different.\n",
        "    # My approach: combine the array then sort it. Didn't know about how to deal with duplicated rank\n",
        "    # Youtube approach: use set() to delete the duplicated rank. With using result array to save\n",
        "                      # the sorted rank\n",
        "    ranked = list(set(ranked))\n",
        "    ranked.sort()\n",
        "    n = len(ranked)\n",
        "    i=0\n",
        "    result=[]\n",
        "    \n",
        "    for playerRanked in player:\n",
        "        while i<n and ranked[i]<=playerRanked:\n",
        "            i+=1\n",
        "        # ranked [80,90,100]\n",
        "        # player 90\n",
        "        result.append(n-i+1)\n",
        "    return result"
      ],
      "metadata": {
        "id": "RAeYpQcZhFO8"
      },
      "execution_count": null,
      "outputs": []
    },
    {
      "cell_type": "markdown",
      "source": [
        "The Hurdle Race"
      ],
      "metadata": {
        "id": "fFVesEdmeUJM"
      }
    },
    {
      "cell_type": "code",
      "source": [
        "def hurdleRace(k, height):\n",
        "    # Write your code here\n",
        "    maxHeight=max(height)\n",
        "    \n",
        "    if k>=maxHeight:\n",
        "        return 0\n",
        "    else:\n",
        "        return maxHeight-k\n",
        "    \n",
        "    # Youtube. This looks better and has better efficiency\n",
        "    # maxHeight=max(height)\n",
        "    # return max(maxHeight-k, 0) # It works becuase it'll return 0 when maxHeigh-k is equal to 0. If k > maxHeight, maxHeight is less than 0 (neg num).\n",
        "                                 # Then it still returns 0 which legit for this statement."
      ],
      "metadata": {
        "id": "YMWaU71beURX"
      },
      "execution_count": null,
      "outputs": []
    },
    {
      "cell_type": "markdown",
      "source": [
        "Designer PDF Viewer"
      ],
      "metadata": {
        "id": "IfIhYbjw8TjO"
      }
    },
    {
      "cell_type": "code",
      "source": [
        "def designerPdfViewer(h, word):\n",
        "    # Write your code here\n",
        "    # alphabet = string.ascii_lowercase\n",
        "    \n",
        "    height=0\n",
        "    \n",
        "    for letter in word:        # ord() returns ASCII CODE value of letter\n",
        "        height = max(height, h[ord(letter) - ord('a')]) # ord('a')=67.\n",
        "        # ord('a')=67. If the letter is different than 'a', ord(letter) - ord('a') will return\n",
        "        # the difference which will give the location of h[].\n",
        "    return height*len(word)"
      ],
      "metadata": {
        "id": "fc02Zzmi8TrW"
      },
      "execution_count": null,
      "outputs": []
    },
    {
      "cell_type": "markdown",
      "source": [
        "Utopian Tree"
      ],
      "metadata": {
        "id": "YlKrQ2o6x1ux"
      }
    },
    {
      "cell_type": "code",
      "source": [
        "def utopianTree(n):\n",
        "    # Write your code here\n",
        "    s = 0\n",
        "    for i in range(n+1): # until n+1 because it starts from 0 period.\n",
        "        if i%2 == 0: # in the even period, its height increases by 1\n",
        "            s+=1\n",
        "        else:        # in the odd period, its height increases double\n",
        "            s*=2\n",
        "    return s"
      ],
      "metadata": {
        "id": "Ms74zhiYx12K"
      },
      "execution_count": null,
      "outputs": []
    },
    {
      "cell_type": "markdown",
      "source": [
        "Angry Professor"
      ],
      "metadata": {
        "id": "AMqHHYjC2N0F"
      }
    },
    {
      "cell_type": "code",
      "source": [
        "def angryProfessor(k, a):\n",
        "    # Write your code here\n",
        "    count = 0\n",
        "    for i in a:\n",
        "        if i<=0:\n",
        "            count+=1\n",
        "    if count>=k:    # I thought when more students arrived on time then threshold, return YES\n",
        "        return 'NO' # But it returns NO because the class will not canceled. \n",
        "    else:           # It asks determine if the class is cancelled.\n",
        "        return 'YES' # vise versa"
      ],
      "metadata": {
        "id": "8JuW-pcf2ODl"
      },
      "execution_count": null,
      "outputs": []
    },
    {
      "cell_type": "markdown",
      "source": [
        "Beautiful Days at the Movies"
      ],
      "metadata": {
        "id": "NBChrO3ZykuB"
      }
    },
    {
      "cell_type": "code",
      "source": [
        "def beautifulDays(i, j, k):\n",
        "    # Write your code here\n",
        "    # This code will print original num, reversed num (found on google)\n",
        "    # for i in range(20,24):\n",
        "    #     print(i,int(str(i)[::-1]))\n",
        "    \n",
        "    count = 0\n",
        "    for itr in range(i,j+1): # because the days include j so looping until j+1\n",
        "        r = int(str(itr)[::-1]) # explanations above\n",
        "        if abs(itr-r)%k == 0: # following explanation in the description\n",
        "            count += 1\n",
        "    return count"
      ],
      "metadata": {
        "id": "vX3DvV9zyk4O"
      },
      "execution_count": null,
      "outputs": []
    },
    {
      "cell_type": "markdown",
      "source": [
        "Viral Advertising"
      ],
      "metadata": {
        "id": "Q1oyZSwKLpzb"
      }
    },
    {
      "cell_type": "code",
      "source": [
        "def viralAdvertising(n):\n",
        "    # Write your code here\n",
        "    total = 0\n",
        "    shared = 5\n",
        "    liked = 0\n",
        "    for i in range(n):\n",
        "        liked = shared//2\n",
        "        shared = liked*3\n",
        "        total += liked\n",
        "    return total\n",
        "    # My code returned the correct value but it didn't return correct shared values\n",
        "    # 6 2 2\n",
        "    # 9 3 5\n",
        "    # 12 4 9\n",
        "    # 18 6 15\n",
        "    # 27 9 24\n",
        "    \n",
        "    # Youtube\n",
        "    # total = 0\n",
        "    # shared = 5\n",
        "    \n",
        "    # for i in range(n):\n",
        "    #     like = shared//2\n",
        "    #     total += like\n",
        "    #     shared = like*3\n",
        "    # return total\n",
        "    # 6 2 2\n",
        "    # 9 3 5\n",
        "    # 12 4 9\n",
        "    # 18 6 15\n",
        "    # 27 9 24"
      ],
      "metadata": {
        "id": "LKCLh9S0Lp8M"
      },
      "execution_count": null,
      "outputs": []
    },
    {
      "cell_type": "markdown",
      "source": [
        "Save the Prisoner!"
      ],
      "metadata": {
        "id": "Ov6bNuqkSpZ-"
      }
    },
    {
      "cell_type": "code",
      "source": [
        "def saveThePrisoner(n, m, s):\n",
        "    # Write your code here\n",
        "    # l = []\n",
        "    # for i in range(m):\n",
        "    #     for j in range(1,n+1):\n",
        "    #         # I don't know how to iterate again from 1\n",
        "                        \n",
        "    res = s+m-1 # It gives the total iteration number. As long as it starts with starting number, it has to subtract 1. The second case ex) n=3,m=7,s=3. 3+7-1=9\n",
        "    res %= n # to get the number in range. ex) 9%3=0\n",
        "    if res == 0:\n",
        "        return n # because it will return to the starting point\n",
        "    else:\n",
        "        return res # the difference from the starting point\n",
        "\n",
        "    # The point of this problem is how to utilize %, an arithmatic operator and understand of its usage.\n",
        "    # Iterating concept is not only using for loop but using %\n",
        "    # There are already similar problems before"
      ],
      "metadata": {
        "id": "YSJAtucISpin"
      },
      "execution_count": null,
      "outputs": []
    },
    {
      "cell_type": "markdown",
      "source": [
        "Circular Array Rotation"
      ],
      "metadata": {
        "id": "uch-06AuxOH-"
      }
    },
    {
      "cell_type": "code",
      "source": [
        "def circularArrayRotation(a, k, queries):\n",
        "    # Write your code here\n",
        "    # My logic is a[i]-k is equal to the index of queries\n",
        "    # ex) a[0]=3. k=2. 3-2=1 which is the index of queries\n",
        "    # for i in range(a):\n",
        "    #     queries=a[a[i]-k]\n",
        "    # for i in queries:\n",
        "    #     print(i)\n",
        "    # It returns runtime error. \n",
        "\n",
        "    result = []\n",
        "    # The difference between 'Save The Prisoner' is the result is the input array itself after rotation\n",
        "    # Then all it needs is '%n'\n",
        "    k = k%n # n is length of array, defined in the main method\n",
        "            # THIS IS AN IMPORTANT FORMULA! When the rotation of array 'k' times is required, utilize this. This formula will help to solve many other problems!!!\n",
        "    for q in queries:\n",
        "        result.append(a[(n-k+q)%n]) # It needs to find the starting index first at a[()]. The logic is above, n-k. For that, a[(n-k)]. ex) a[0]=3,n=3,k=2. a[(3-2)]\n",
        "                                    # It's still a[1]. It is supposed to be a[2] because after rotation, a=[4,5,3]\n",
        "                                    # Then, return the queries index. For that, just add q, a[(n-k+q)]. ex) a[(3-2+1)]\n",
        "                                    # Finally, it has to take '%n' becuase if it exceed the range, it'll throw the error. In order to keep it in the range, it need to take '%n'\n",
        "    return result"
      ],
      "metadata": {
        "id": "tSZVjmX-dswr"
      },
      "execution_count": null,
      "outputs": []
    },
    {
      "cell_type": "markdown",
      "source": [
        "Sequence Equation"
      ],
      "metadata": {
        "id": "tMhSx23Gc3Q_"
      }
    },
    {
      "cell_type": "code",
      "source": [
        "def permutationEquation(p):\n",
        "    # Write your code here\n",
        "    # l =[]\n",
        "    # for i in p:\n",
        "    #     for j in range(1,n+1):\n",
        "    #         if i==j:\n",
        "    #             l[j]=i\n",
        "    #             print(l[j])\n",
        "    \n",
        "    result = []\n",
        "    n = len(p)\n",
        "    \n",
        "    for i in range(1, n+1): # Range from 1 to n+1 because we're going to use index(). index() uses different way than how we count in array.\n",
        "                            # In array, '0~n'. With index(), 1~n+1. ex) p[0] = index(1). If p[2,3,1], index(0) is out of range. index(1) returns 2\n",
        "        result.append(p.index(p.index(i) + 1) + 1) # Calculate from the most inside index(). p.index(1) = 2. Then +1 is 3.\n",
        "                                                   # It is now p.index(3)+1. p.index(3) = 1. Then +1 is 2.\n",
        "                                                   # This line of code is like copying the formula in the explanation of the problem.\n",
        "                                                   # Finally, add the result into the result[]\n",
        "    return result"
      ],
      "metadata": {
        "id": "8XIrSvkWc3dX"
      },
      "execution_count": null,
      "outputs": []
    },
    {
      "cell_type": "markdown",
      "source": [
        "40. Jumping on the Clouds: Revisited"
      ],
      "metadata": {
        "id": "8pqjqC7CIkGT"
      }
    },
    {
      "cell_type": "code",
      "source": [
        "def jumpingOnClouds(c, k):\n",
        "    \n",
        "    # e=100\n",
        "    # for i in range(len(c)):\n",
        "    #     if c[(i+k)%n]==1:\n",
        "    #         e-=2\n",
        "    #     elif c[(i+k)%n]==0:\n",
        "    #         e-=1\n",
        "    #     elif c[(i+k)%n]==c[0]:\n",
        "    #         e-=1\n",
        "    #         return e\n",
        "        \n",
        "    e = 100\n",
        "    i = 0\n",
        "    \n",
        "    while True: # In order to make an infinite loop\n",
        "        e = e-1-2*c[i] # 'e-1' represent the cost of jump. \n",
        "            # Another condition '-2*c[i]' when c[i]=1. Then the cost of jump is additional charge of -2'\n",
        "            # If c[i]=0, then there is no additional charge because -2*0=0.\n",
        "        \n",
        "        i = (i+k)%n # This makes the loop circular\n",
        "        \n",
        "        if i==0: # 0 is a starting index. Checking the loop exit condition.\n",
        "            break # Break the loop and exit.\n",
        "    return e"
      ],
      "metadata": {
        "id": "n7plo0LkIkO5"
      },
      "execution_count": null,
      "outputs": []
    },
    {
      "cell_type": "markdown",
      "source": [
        "41. Find Digits"
      ],
      "metadata": {
        "id": "Gnl_CxeUKqb5"
      }
    },
    {
      "cell_type": "code",
      "source": [
        "def findDigits(n):\n",
        "    # Write your code here\n",
        "    count = 0\n",
        "    strN = str(n)\n",
        "    for i in range(len(strN)):\n",
        "        if int(strN[i])!=0 and n%int(strN[i])==0: # I forgot to add condition when digit is 0.\n",
        "            count+=1\n",
        "    return count\n",
        "\n",
        "    # Youtube solution\n",
        "    count = 0\n",
        "    for i in str(n): # Instead of converting int to str for getting the range of integer,\n",
        "                     # just iterate in str(n). It works the same and much intuitive.\n",
        "        if int(i)!=0 and n%int(i)==0: # Now i is string type. So, convert to int to calculate.\n",
        "            count+=1\n",
        "    return count\n"
      ],
      "metadata": {
        "id": "sfoI4UxlKqmk"
      },
      "execution_count": null,
      "outputs": []
    },
    {
      "cell_type": "markdown",
      "source": [
        "42. Extra Long Factorials"
      ],
      "metadata": {
        "id": "jY7brcx3Lm8u"
      }
    },
    {
      "cell_type": "code",
      "source": [
        "def extraLongFactorials(n):\n",
        "    # Write your code here\n",
        "    # if n==1:\n",
        "    #     return n\n",
        "    # return extraLongFactorials(n-1)*n\n",
        "\n",
        "    # My code works, but it the problem requires to print. So it's beneficial to use for loop\n",
        "    # It looks hard but it is not with using for loop. And actually using for loop is better efficiency\n",
        "    fact = 1 # Starting point\n",
        "    for i in range(1,n+1): \n",
        "        fact = fact*i # As the definition of factorial is.\n",
        "    print(fact)"
      ],
      "metadata": {
        "id": "qp4dF81qLnFV"
      },
      "execution_count": null,
      "outputs": []
    },
    {
      "cell_type": "markdown",
      "source": [
        "43. Append and Delete"
      ],
      "metadata": {
        "id": "5Sne85nghF2C"
      }
    },
    {
      "cell_type": "code",
      "source": [
        "def appendAndDelete(s, t, k):\n",
        "    # Write your code here\n",
        "    # count = 0\n",
        "    # for i in s:\n",
        "    #     for j in t:\n",
        "    \n",
        "    # Forgot to use zip(). Again, zip() allows to link/connect from two diff arrays(same len)\n",
        "    count = 0\n",
        "    for i,j in zip(s,t):\n",
        "        if i == j:\n",
        "            count+=1\n",
        "        else:\n",
        "            break\n",
        "    # Here is my misinterpretation. I thought I have to make complete string for s, but it was not.\n",
        "    # Just need to calculate how many steps to convert s to t in k times.\n",
        "    # So, I don't have to worry about append or pop operations for the array to complete matching strings\n",
        "    # Just count numbers in k times. Then return Yes or No.\n",
        "    totalLen = len(s) + len(t)\n",
        "    \n",
        "    # Case1\n",
        "    #totalLen <= 2*count + k # Possible to convert strings in k times\n",
        "                            # 2*count is the matching strings for both array, and k is number of operations to perform\n",
        "    \n",
        "    # Case2: perform exactly k times operations\n",
        "    #totalLen%2 == k%2  # In order to check exact k operations, it should be all even\n",
        "    \n",
        "    # Case3: failed to convert case\n",
        "    #totalLen < k\n",
        "    \n",
        "    # So, condition should be case1 and case2 or case3\n",
        "    if totalLen <= 2*count+k and totalLen%2 == k%2 or totalLen < k:\n",
        "        return 'Yes'\n",
        "    else:\n",
        "        return 'No'"
      ],
      "metadata": {
        "id": "bAh4lQ9mhF-p"
      },
      "execution_count": null,
      "outputs": []
    },
    {
      "cell_type": "markdown",
      "source": [
        "44. Sherlock and Squares"
      ],
      "metadata": {
        "id": "K93qt996qXMi"
      }
    },
    {
      "cell_type": "code",
      "source": [
        "from math import *\n",
        "def squares(a, b):\n",
        "    # Write your code here\n",
        "    # count = 0\n",
        "    # for i in range(a,b+1):\n",
        "    #     sqrtInt = int(math.sqrt(i))\n",
        "    #     if sqrtInt%1 == 0 and a<=sqrtInt<=b:\n",
        "    #         count+=1\n",
        "    # return count\n",
        "\n",
        "    return floor(sqrt(b)) - ceil(sqrt(a)) + 1\n",
        "    # The floor() will take the input and remove values after the decimal point. ex) 5.9 -> 5\n",
        "    # The ceil() will take the input and round up to the next integer value. ex) 5.1 -> 6\n",
        "    \n",
        "    # If you take square root of the perfect squares, you will get normal natural numbers \n",
        "    # like this 1,2,3,4,5 and so on. Then take a difference, you will get the number of perfect squares\n",
        "    # in the range. I just reduced the range by taking square root, you can also solve the problem \n",
        "    # by finding whether the number is perfect square or not, but it will take some time.\n",
        "    \n",
        "    # why do you have taken +1 (after floor-ceil)?\n",
        "    # To get the inclusive range of one part, If you didn't add one, \n",
        "    # it will miss one element in the range."
      ],
      "metadata": {
        "id": "oAVpG6pWqXUi"
      },
      "execution_count": null,
      "outputs": []
    },
    {
      "cell_type": "markdown",
      "source": [
        "45. Cut the sticks"
      ],
      "metadata": {
        "id": "rPDyojtEmHW-"
      }
    },
    {
      "cell_type": "code",
      "source": [
        "from collections import Counter # Youtube solution imported\n",
        "def cutTheSticks(arr):\n",
        "    # Write your code here\n",
        "    # for i in arr:\n",
        "    #     sticks = len(arr)\n",
        "    #     shortest = min(arr)\n",
        "    #     if sticks > 0:\n",
        "    #         return sticks\n",
        "    #     elif i>shortest:\n",
        "    #         i-shortest\n",
        "    #     elif i==shortest:\n",
        "    #         arr.pop(i)\n",
        "    \n",
        "    result = []\n",
        "    n = len(arr)\n",
        "    s = Counter(arr)# Making hashmap of the array. This will return a dict\n",
        "                    # Why use dict? Each key value will be unique. We can have number of counts as value\n",
        "                    # So, the Counter in this problem will create a dictionary with key as stick and value as count of that particular stick\n",
        "    \n",
        "    for i in sorted(s.keys()): # From the dict, we get only key values. And we sort key values.\n",
        "                               # Why sort key values? Because for each iteration, we need to pick the \n",
        "                               # shortest value. \n",
        "        result.append(n) # Why we add the result in the first step? The problem requires to print the \n",
        "                         # number of sticks that are left before each iteration\n",
        "        n -= s[i] # 'i' will be the shortest stick(s), so discard it/them. After discard,\n",
        "                  # we'll get the remaining stick(s) from n\n",
        "    return result"
      ],
      "metadata": {
        "id": "GwFyTHSYmHfI"
      },
      "execution_count": null,
      "outputs": []
    },
    {
      "cell_type": "markdown",
      "source": [
        "46. Non-Divisible Subset"
      ],
      "metadata": {
        "id": "QxMAzeMik8Is"
      }
    },
    {
      "cell_type": "code",
      "source": [
        "def nonDivisibleSubset(k, s):\n",
        "    # Write your code here\n",
        "    \n",
        "    # Youtube solution\n",
        "    remainder = [0]*k # initialize array with [0], length of k. If k=5, remainder = [0,0,0,0,0]\n",
        "    for i in s:\n",
        "        remainder[i % k] +=1  # For each integer, it'll take the remainder as an index. ex) i=10,k=4, 10%4=2. remainder[2]+=1\n",
        "                              # For each remainder index, we'll have number of integer count of the particular reminader.\n",
        "        \n",
        "    maxNum = 0\n",
        "    maxNum += min(remainder[0], 1) # If we add more than 1 element from the reminader[0], it'll be divisable by k. \n",
        "                                   # We'll add only one number if remainder[0] have some elements. If remainder[0] has no element, nothing will be added to maxNum because of the min operation.\n",
        "                                   # If there are more than one element, it'll add 1 to maxNum\n",
        "    if k % 2 == 0:\n",
        "        maxNum += min(remainder[k//2], 1) \n",
        "        \n",
        "    for i in range(1, k//2+1): # Why starting from 1? because we already done with 0 index. Upto half of the index.\n",
        "        if i != k-i: # In order to avoid if both indices are the same\n",
        "            maxNum += max(remainder[i], remainder[k-i]) # ex) i=1, k=4, remainder[1],reminder[3]. 1+3=4 which divisable by 4. \n",
        "                                                        # ex) i=2, k=5, remainder[2],remainder[3]. 2+3=5 which divisable by 5.\n",
        "                                                        # We can add both indices but the only one element which is the maximum element\n",
        "            \n",
        "    return maxNum"
      ],
      "metadata": {
        "id": "601AxZkfk8Q2"
      },
      "execution_count": null,
      "outputs": []
    },
    {
      "cell_type": "markdown",
      "source": [
        "47. Repeated String"
      ],
      "metadata": {
        "id": "yI0EuVpDQ5L9"
      }
    },
    {
      "cell_type": "code",
      "source": [
        "def repeatedString(s, n):\n",
        "    # Write your code here\n",
        "    \n",
        "    # Youtube solution\n",
        "    total = 0\n",
        "    # Part1. Counting 'a' in the original letter\n",
        "    for i in s:\n",
        "        if i=='a':\n",
        "            total+=1\n",
        "    # Part2a. Counting 'a' in the full length of repeated string\n",
        "    total = n//len(s)*total\n",
        "    # Part2b. Counting 'a' in the remaining length after the full length of repeated string\n",
        "    for i in s[:n%len(s)]: # From [0] to [remaining] of the remaining strings\n",
        "        if i=='a':\n",
        "            total+=1\n",
        "            \n",
        "    return total"
      ],
      "metadata": {
        "id": "p6Nb_tCaQ5ZY"
      },
      "execution_count": null,
      "outputs": []
    },
    {
      "cell_type": "markdown",
      "source": [
        "48. Jumping on the Clouds"
      ],
      "metadata": {
        "id": "_8MYdZbuYd3D"
      }
    },
    {
      "cell_type": "code",
      "source": [
        "def jumpingOnClouds(c):\n",
        "    # Write your code here\n",
        "    # count = 0\n",
        "    # i = 0\n",
        "    # while i<n-1:\n",
        "    #     i = (i+2)%n\n",
        "    #     if i==0:\n",
        "    #         count+=2\n",
        "    #     elif i==1:\n",
        "    #         i-=1\n",
        "    #         count+=1\n",
        "    # return count\n",
        "    \n",
        "    # Youtube solution\n",
        "    jump = 0 # counting jumps\n",
        "    i = 0 # index\n",
        "    while i < n-1: # because it reaches to the last loop. In order to compare index, the range has to be < n-1. \n",
        "                   # we are checking i+2 in the condition, that's why n-1 is there. if we use n, it will be out of range in the condition\n",
        "        # Condition 1.\n",
        "        if i+2 < n and c[i+2]==0: # After 2 index jump, i is less than n(in the range) and the index value is 0. If the index value != 0, go to the next condition.\n",
        "            jump+=1\n",
        "            i+=2 # It jumped 2 index\n",
        "        # Condition 2.\n",
        "        elif i+1 < n and c[i+1]==0: # After 1 index jump, i is less than n(in the range) and the index value is 0.\n",
        "            jump+=1\n",
        "            i+=1 # It jumped 1 index\n",
        "    return jump"
      ],
      "metadata": {
        "id": "GUDXb_VCYeCq"
      },
      "execution_count": null,
      "outputs": []
    },
    {
      "cell_type": "markdown",
      "source": [
        "49. Equalize the Array"
      ],
      "metadata": {
        "id": "VzdXKH-IcNWm"
      }
    },
    {
      "cell_type": "code",
      "source": [
        "from collections import Counter # Again, I need to master how to use Counter\n",
        "def equalizeArray(arr):\n",
        "    # Write your code here\n",
        "    # count = 0\n",
        "    # for i in range(len(arr)-1):\n",
        "    #     for j in range(1,len(arr)):\n",
        "    #         if arr[i]==arr[j]:\n",
        "    #             count+=1\n",
        "    # return n-count\n",
        "\n",
        "    # Youtube solution\n",
        "    c = Counter(arr)\n",
        "    return len(arr) - max(c.values()) # The idea is the same as mine but approach and apply is way diff\n",
        "    # max(c.values()) allows to find the maximum common value out of the array values."
      ],
      "metadata": {
        "id": "ceDptgQfcNjz"
      },
      "execution_count": null,
      "outputs": []
    }
  ]
}