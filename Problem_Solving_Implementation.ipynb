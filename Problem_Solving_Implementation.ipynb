{
  "nbformat": 4,
  "nbformat_minor": 0,
  "metadata": {
    "colab": {
      "name": "Problem Solving-Implementation.ipynb",
      "provenance": [],
      "include_colab_link": true
    },
    "kernelspec": {
      "name": "python3",
      "display_name": "Python 3"
    },
    "language_info": {
      "name": "python"
    }
  },
  "cells": [
    {
      "cell_type": "markdown",
      "metadata": {
        "id": "view-in-github",
        "colab_type": "text"
      },
      "source": [
        "<a href=\"https://colab.research.google.com/github/jk9eem/ProblemSolving_Implement/blob/main/Problem_Solving_Implementation.ipynb\" target=\"_parent\"><img src=\"https://colab.research.google.com/assets/colab-badge.svg\" alt=\"Open In Colab\"/></a>"
      ]
    },
    {
      "cell_type": "markdown",
      "source": [
        "Migratory Birds"
      ],
      "metadata": {
        "id": "nvHdrh37l1Dh"
      }
    },
    {
      "cell_type": "code",
      "execution_count": null,
      "metadata": {
        "id": "A-BD3ujrLZaI"
      },
      "outputs": [],
      "source": [
        "def migratoryBirds(arr):\n",
        "    # Write your code here\n",
        "    # count=0\n",
        "    # cnt=[]\n",
        "    # for i in range(len(arr)):\n",
        "    #     if i == arr[i]:\n",
        "    #         cnt[i]+=1\n",
        "    # maxNum=max(cnt)\n",
        "    # print(maxNum)\n",
        "                     #Initialize the list to count. \n",
        "    l = [0]*len(arr) # It's guaranteed that each type is less than len(arr)\n",
        "    for i in range(len(arr)):\n",
        "        l[arr[i]]+=1 # If arr[1] is 4, increase value at l[4]\n",
        "    \n",
        "    return l.index(max(l)) # return the max number of index of l"
      ]
    },
    {
      "cell_type": "markdown",
      "source": [
        "Day of the Programmer"
      ],
      "metadata": {
        "id": "uugfpK9KlqtH"
      }
    },
    {
      "cell_type": "code",
      "source": [
        "def dayOfProgrammer(year):\n",
        "    # Write your code here\n",
        "    # if year>1918:\n",
        "    #     if year%400==0 and year%4==0 and year%100!=0:\n",
        "    #         mm=256//29\n",
        "    #         dd=256%29\n",
        "            \n",
        "    # else:\n",
        "    #     mm=256//28\n",
        "    #     dd=256%28\n",
        "    \n",
        "    # strMM=str(mm)\n",
        "    # strDD=str(dd)\n",
        "    # strYear=str(year)\n",
        "    # print(strMM+\".\"+strDD+\".\"+strYear)\n",
        "    \n",
        "    if year == 1918: # specific year, 1918\n",
        "        return \"26.09.1918\"\n",
        "    elif (year<=1917 and year%4==0) or (year>1918 and (year%400==0 or (year%4==0 and year%100!=100))):\n",
        "        return \"12.09.%s\" %year # leap year for before 1917 and after 1918\n",
        "    else:\n",
        "        return \"13.09.%s\" %year\n",
        "    \n",
        "    # this problem's problem was hard to understand the problem.\n",
        "    # still not figured out yet"
      ],
      "metadata": {
        "id": "12ewJC71lj-W"
      },
      "execution_count": null,
      "outputs": []
    },
    {
      "cell_type": "markdown",
      "source": [
        "Bill Division(Bon Appetit)"
      ],
      "metadata": {
        "id": "KfAuGF19Nxit"
      }
    },
    {
      "cell_type": "code",
      "source": [
        "def bonAppetit(bill, k, b):\n",
        "    # Write your code here\n",
        "    actual=(sum(bill)-bill[k])//2\n",
        "    if (b-actual)==0:\n",
        "        print(\"Bon Appetit\")\n",
        "    else:\n",
        "        print(b-actual)"
      ],
      "metadata": {
        "id": "STca-elqNw-v"
      },
      "execution_count": null,
      "outputs": []
    }
  ]
}